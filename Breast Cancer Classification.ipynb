{
 "cells": [
  {
   "cell_type": "markdown",
   "metadata": {},
   "source": [
    "# BREAST CANCER CLASSIFICATION"
   ]
  },
  {
   "cell_type": "markdown",
   "metadata": {},
   "source": [
    "### DATASET - breast-cancer-wisconsin (https://drive.google.com/file/d/1AnRf3cl-MflHd4JVK07Az3UdvemNRU4a/view?usp=sharing)\n",
    "### OBJECTIVES\n",
    "This breast cancer database was obtained from the University of Wisconsin Hospitals, Madison from Dr. William H. Wolberg.\n",
    "\n",
    "                                             \n",
    "**Attribute Information**\n",
    "\n",
    "| Columns | Description |\n",
    "|--|--|\n",
    "| Sample code number                   | id number |\n",
    "| Clump Thickness                      | 1 - 10    |\n",
    "| Uniformity of Cell Size              | 1 - 10    |\n",
    "| Uniformity of Cell Shape             | 1 - 10  |\n",
    "| Marginal Adhesion                    | 1 - 10 |\n",
    "| Single Epithelial Cell Size          | 1 - 10 |\n",
    "| Bare Nuclei                          | 1 - 10 |\n",
    "| Bland Chromatin                      | 1 - 10 |\n",
    "| Normal Nucleoli                      | 1 - 10 |\n",
    "| Mitoses                              | 1 - 10 |\n",
    "| Class                                | <ul><li>2: benign</li><li>4: malignant</li></ul>\n",
    "\n",
    "\n",
    "Prepare a jupyter notebook (recommended - Google Colab) to build, train and evaluate a Machine Learning model on the given dataset. "
   ]
  },
  {
   "cell_type": "markdown",
   "metadata": {},
   "source": [
    "# PART A"
   ]
  },
  {
   "cell_type": "markdown",
   "metadata": {},
   "source": [
    "## 1) IMPORT LIBRARIES AND DATASET"
   ]
  },
  {
   "cell_type": "code",
   "execution_count": 337,
   "metadata": {},
   "outputs": [],
   "source": [
    "# Import Libraries\n",
    "import pandas\n",
    "import matplotlib.pyplot as plt\n",
    "import numpy as np\n",
    "import scipy.stats as st\n",
    "from sklearn import preprocessing\n",
    "import seaborn as sns\n",
    "import warnings\n",
    "from sklearn import metrics"
   ]
  },
  {
   "cell_type": "code",
   "execution_count": 338,
   "metadata": {},
   "outputs": [],
   "source": [
    "# Hide python warnings\n",
    "warnings.filterwarnings(\"ignore\")"
   ]
  },
  {
   "cell_type": "code",
   "execution_count": 393,
   "metadata": {},
   "outputs": [],
   "source": [
    "# Define filepath\n",
    "data_path = \"C:\\\\Desktop\\\\ML_assignment\""
   ]
  },
  {
   "cell_type": "code",
   "execution_count": 340,
   "metadata": {},
   "outputs": [
    {
     "data": {
      "text/html": [
       "<div>\n",
       "<style scoped>\n",
       "    .dataframe tbody tr th:only-of-type {\n",
       "        vertical-align: middle;\n",
       "    }\n",
       "\n",
       "    .dataframe tbody tr th {\n",
       "        vertical-align: top;\n",
       "    }\n",
       "\n",
       "    .dataframe thead th {\n",
       "        text-align: right;\n",
       "    }\n",
       "</style>\n",
       "<table border=\"1\" class=\"dataframe\">\n",
       "  <thead>\n",
       "    <tr style=\"text-align: right;\">\n",
       "      <th></th>\n",
       "      <th>Sample code number</th>\n",
       "      <th>Clump Thickness</th>\n",
       "      <th>Uniformity of Cell Size</th>\n",
       "      <th>Uniformity of Cell Shape</th>\n",
       "      <th>Marginal Adhesion</th>\n",
       "      <th>Single Epithelial Cell Size</th>\n",
       "      <th>Bare Nuclei</th>\n",
       "      <th>Bland Chromatin</th>\n",
       "      <th>Normal Nucleoli</th>\n",
       "      <th>Mitoses</th>\n",
       "      <th>Class</th>\n",
       "    </tr>\n",
       "  </thead>\n",
       "  <tbody>\n",
       "    <tr>\n",
       "      <th>0</th>\n",
       "      <td>1000025</td>\n",
       "      <td>5</td>\n",
       "      <td>1</td>\n",
       "      <td>1</td>\n",
       "      <td>1</td>\n",
       "      <td>2</td>\n",
       "      <td>1</td>\n",
       "      <td>3</td>\n",
       "      <td>1</td>\n",
       "      <td>1</td>\n",
       "      <td>2</td>\n",
       "    </tr>\n",
       "    <tr>\n",
       "      <th>1</th>\n",
       "      <td>1002945</td>\n",
       "      <td>5</td>\n",
       "      <td>4</td>\n",
       "      <td>4</td>\n",
       "      <td>5</td>\n",
       "      <td>7</td>\n",
       "      <td>10</td>\n",
       "      <td>3</td>\n",
       "      <td>2</td>\n",
       "      <td>1</td>\n",
       "      <td>2</td>\n",
       "    </tr>\n",
       "    <tr>\n",
       "      <th>2</th>\n",
       "      <td>1015425</td>\n",
       "      <td>3</td>\n",
       "      <td>1</td>\n",
       "      <td>1</td>\n",
       "      <td>1</td>\n",
       "      <td>2</td>\n",
       "      <td>2</td>\n",
       "      <td>3</td>\n",
       "      <td>1</td>\n",
       "      <td>1</td>\n",
       "      <td>2</td>\n",
       "    </tr>\n",
       "    <tr>\n",
       "      <th>3</th>\n",
       "      <td>1016277</td>\n",
       "      <td>6</td>\n",
       "      <td>8</td>\n",
       "      <td>8</td>\n",
       "      <td>1</td>\n",
       "      <td>3</td>\n",
       "      <td>4</td>\n",
       "      <td>3</td>\n",
       "      <td>7</td>\n",
       "      <td>1</td>\n",
       "      <td>2</td>\n",
       "    </tr>\n",
       "    <tr>\n",
       "      <th>4</th>\n",
       "      <td>1017023</td>\n",
       "      <td>4</td>\n",
       "      <td>1</td>\n",
       "      <td>1</td>\n",
       "      <td>3</td>\n",
       "      <td>2</td>\n",
       "      <td>1</td>\n",
       "      <td>3</td>\n",
       "      <td>1</td>\n",
       "      <td>1</td>\n",
       "      <td>2</td>\n",
       "    </tr>\n",
       "    <tr>\n",
       "      <th>...</th>\n",
       "      <td>...</td>\n",
       "      <td>...</td>\n",
       "      <td>...</td>\n",
       "      <td>...</td>\n",
       "      <td>...</td>\n",
       "      <td>...</td>\n",
       "      <td>...</td>\n",
       "      <td>...</td>\n",
       "      <td>...</td>\n",
       "      <td>...</td>\n",
       "      <td>...</td>\n",
       "    </tr>\n",
       "    <tr>\n",
       "      <th>694</th>\n",
       "      <td>776715</td>\n",
       "      <td>3</td>\n",
       "      <td>1</td>\n",
       "      <td>1</td>\n",
       "      <td>1</td>\n",
       "      <td>3</td>\n",
       "      <td>2</td>\n",
       "      <td>1</td>\n",
       "      <td>1</td>\n",
       "      <td>1</td>\n",
       "      <td>2</td>\n",
       "    </tr>\n",
       "    <tr>\n",
       "      <th>695</th>\n",
       "      <td>841769</td>\n",
       "      <td>2</td>\n",
       "      <td>1</td>\n",
       "      <td>1</td>\n",
       "      <td>1</td>\n",
       "      <td>2</td>\n",
       "      <td>1</td>\n",
       "      <td>1</td>\n",
       "      <td>1</td>\n",
       "      <td>1</td>\n",
       "      <td>2</td>\n",
       "    </tr>\n",
       "    <tr>\n",
       "      <th>696</th>\n",
       "      <td>888820</td>\n",
       "      <td>5</td>\n",
       "      <td>10</td>\n",
       "      <td>10</td>\n",
       "      <td>3</td>\n",
       "      <td>7</td>\n",
       "      <td>3</td>\n",
       "      <td>8</td>\n",
       "      <td>10</td>\n",
       "      <td>2</td>\n",
       "      <td>4</td>\n",
       "    </tr>\n",
       "    <tr>\n",
       "      <th>697</th>\n",
       "      <td>897471</td>\n",
       "      <td>4</td>\n",
       "      <td>8</td>\n",
       "      <td>6</td>\n",
       "      <td>4</td>\n",
       "      <td>3</td>\n",
       "      <td>4</td>\n",
       "      <td>10</td>\n",
       "      <td>6</td>\n",
       "      <td>1</td>\n",
       "      <td>4</td>\n",
       "    </tr>\n",
       "    <tr>\n",
       "      <th>698</th>\n",
       "      <td>897471</td>\n",
       "      <td>4</td>\n",
       "      <td>8</td>\n",
       "      <td>8</td>\n",
       "      <td>5</td>\n",
       "      <td>4</td>\n",
       "      <td>5</td>\n",
       "      <td>10</td>\n",
       "      <td>4</td>\n",
       "      <td>1</td>\n",
       "      <td>4</td>\n",
       "    </tr>\n",
       "  </tbody>\n",
       "</table>\n",
       "<p>699 rows × 11 columns</p>\n",
       "</div>"
      ],
      "text/plain": [
       "     Sample code number  Clump Thickness  Uniformity of Cell Size  \\\n",
       "0               1000025                5                        1   \n",
       "1               1002945                5                        4   \n",
       "2               1015425                3                        1   \n",
       "3               1016277                6                        8   \n",
       "4               1017023                4                        1   \n",
       "..                  ...              ...                      ...   \n",
       "694              776715                3                        1   \n",
       "695              841769                2                        1   \n",
       "696              888820                5                       10   \n",
       "697              897471                4                        8   \n",
       "698              897471                4                        8   \n",
       "\n",
       "     Uniformity of Cell Shape  Marginal Adhesion  Single Epithelial Cell Size  \\\n",
       "0                           1                  1                            2   \n",
       "1                           4                  5                            7   \n",
       "2                           1                  1                            2   \n",
       "3                           8                  1                            3   \n",
       "4                           1                  3                            2   \n",
       "..                        ...                ...                          ...   \n",
       "694                         1                  1                            3   \n",
       "695                         1                  1                            2   \n",
       "696                        10                  3                            7   \n",
       "697                         6                  4                            3   \n",
       "698                         8                  5                            4   \n",
       "\n",
       "    Bare Nuclei  Bland Chromatin  Normal Nucleoli  Mitoses  Class  \n",
       "0             1                3                1        1      2  \n",
       "1            10                3                2        1      2  \n",
       "2             2                3                1        1      2  \n",
       "3             4                3                7        1      2  \n",
       "4             1                3                1        1      2  \n",
       "..          ...              ...              ...      ...    ...  \n",
       "694           2                1                1        1      2  \n",
       "695           1                1                1        1      2  \n",
       "696           3                8               10        2      4  \n",
       "697           4               10                6        1      4  \n",
       "698           5               10                4        1      4  \n",
       "\n",
       "[699 rows x 11 columns]"
      ]
     },
     "execution_count": 340,
     "metadata": {},
     "output_type": "execute_result"
    }
   ],
   "source": [
    "# Read dataset\n",
    "df_cancer_data = pandas.read_csv(data_path + \"\\\\breast-cancer-wisconsin.csv\")\n",
    "df_cancer_data"
   ]
  },
  {
   "cell_type": "markdown",
   "metadata": {},
   "source": [
    "## 2) DATA VISUALIZATION AND EXPLORATION"
   ]
  },
  {
   "cell_type": "markdown",
   "metadata": {},
   "source": [
    "### 2-a) Print 5 rows for sanity checks"
   ]
  },
  {
   "cell_type": "code",
   "execution_count": 341,
   "metadata": {},
   "outputs": [
    {
     "data": {
      "text/html": [
       "<div>\n",
       "<style scoped>\n",
       "    .dataframe tbody tr th:only-of-type {\n",
       "        vertical-align: middle;\n",
       "    }\n",
       "\n",
       "    .dataframe tbody tr th {\n",
       "        vertical-align: top;\n",
       "    }\n",
       "\n",
       "    .dataframe thead th {\n",
       "        text-align: right;\n",
       "    }\n",
       "</style>\n",
       "<table border=\"1\" class=\"dataframe\">\n",
       "  <thead>\n",
       "    <tr style=\"text-align: right;\">\n",
       "      <th></th>\n",
       "      <th>Sample code number</th>\n",
       "      <th>Clump Thickness</th>\n",
       "      <th>Uniformity of Cell Size</th>\n",
       "      <th>Uniformity of Cell Shape</th>\n",
       "      <th>Marginal Adhesion</th>\n",
       "      <th>Single Epithelial Cell Size</th>\n",
       "      <th>Bare Nuclei</th>\n",
       "      <th>Bland Chromatin</th>\n",
       "      <th>Normal Nucleoli</th>\n",
       "      <th>Mitoses</th>\n",
       "      <th>Class</th>\n",
       "    </tr>\n",
       "  </thead>\n",
       "  <tbody>\n",
       "    <tr>\n",
       "      <th>0</th>\n",
       "      <td>1000025</td>\n",
       "      <td>5</td>\n",
       "      <td>1</td>\n",
       "      <td>1</td>\n",
       "      <td>1</td>\n",
       "      <td>2</td>\n",
       "      <td>1</td>\n",
       "      <td>3</td>\n",
       "      <td>1</td>\n",
       "      <td>1</td>\n",
       "      <td>2</td>\n",
       "    </tr>\n",
       "    <tr>\n",
       "      <th>1</th>\n",
       "      <td>1002945</td>\n",
       "      <td>5</td>\n",
       "      <td>4</td>\n",
       "      <td>4</td>\n",
       "      <td>5</td>\n",
       "      <td>7</td>\n",
       "      <td>10</td>\n",
       "      <td>3</td>\n",
       "      <td>2</td>\n",
       "      <td>1</td>\n",
       "      <td>2</td>\n",
       "    </tr>\n",
       "    <tr>\n",
       "      <th>2</th>\n",
       "      <td>1015425</td>\n",
       "      <td>3</td>\n",
       "      <td>1</td>\n",
       "      <td>1</td>\n",
       "      <td>1</td>\n",
       "      <td>2</td>\n",
       "      <td>2</td>\n",
       "      <td>3</td>\n",
       "      <td>1</td>\n",
       "      <td>1</td>\n",
       "      <td>2</td>\n",
       "    </tr>\n",
       "    <tr>\n",
       "      <th>3</th>\n",
       "      <td>1016277</td>\n",
       "      <td>6</td>\n",
       "      <td>8</td>\n",
       "      <td>8</td>\n",
       "      <td>1</td>\n",
       "      <td>3</td>\n",
       "      <td>4</td>\n",
       "      <td>3</td>\n",
       "      <td>7</td>\n",
       "      <td>1</td>\n",
       "      <td>2</td>\n",
       "    </tr>\n",
       "    <tr>\n",
       "      <th>4</th>\n",
       "      <td>1017023</td>\n",
       "      <td>4</td>\n",
       "      <td>1</td>\n",
       "      <td>1</td>\n",
       "      <td>3</td>\n",
       "      <td>2</td>\n",
       "      <td>1</td>\n",
       "      <td>3</td>\n",
       "      <td>1</td>\n",
       "      <td>1</td>\n",
       "      <td>2</td>\n",
       "    </tr>\n",
       "  </tbody>\n",
       "</table>\n",
       "</div>"
      ],
      "text/plain": [
       "   Sample code number  Clump Thickness  Uniformity of Cell Size  \\\n",
       "0             1000025                5                        1   \n",
       "1             1002945                5                        4   \n",
       "2             1015425                3                        1   \n",
       "3             1016277                6                        8   \n",
       "4             1017023                4                        1   \n",
       "\n",
       "   Uniformity of Cell Shape  Marginal Adhesion  Single Epithelial Cell Size  \\\n",
       "0                         1                  1                            2   \n",
       "1                         4                  5                            7   \n",
       "2                         1                  1                            2   \n",
       "3                         8                  1                            3   \n",
       "4                         1                  3                            2   \n",
       "\n",
       "  Bare Nuclei  Bland Chromatin  Normal Nucleoli  Mitoses  Class  \n",
       "0           1                3                1        1      2  \n",
       "1          10                3                2        1      2  \n",
       "2           2                3                1        1      2  \n",
       "3           4                3                7        1      2  \n",
       "4           1                3                1        1      2  "
      ]
     },
     "execution_count": 341,
     "metadata": {},
     "output_type": "execute_result"
    }
   ],
   "source": [
    "df_cancer_data.head(5)"
   ]
  },
  {
   "cell_type": "markdown",
   "metadata": {},
   "source": [
    "### 2-b) Print shape and description of dataset"
   ]
  },
  {
   "cell_type": "code",
   "execution_count": 342,
   "metadata": {},
   "outputs": [
    {
     "name": "stdout",
     "output_type": "stream",
     "text": [
      "Dataset Rows:  699\n",
      "Dataset Columns:  11\n"
     ]
    }
   ],
   "source": [
    "print(\"Dataset Rows: \", df_cancer_data.shape[0])\n",
    "print(\"Dataset Columns: \", df_cancer_data.shape[1])"
   ]
  },
  {
   "cell_type": "code",
   "execution_count": 343,
   "metadata": {
    "scrolled": true
   },
   "outputs": [
    {
     "data": {
      "text/html": [
       "<div>\n",
       "<style scoped>\n",
       "    .dataframe tbody tr th:only-of-type {\n",
       "        vertical-align: middle;\n",
       "    }\n",
       "\n",
       "    .dataframe tbody tr th {\n",
       "        vertical-align: top;\n",
       "    }\n",
       "\n",
       "    .dataframe thead th {\n",
       "        text-align: right;\n",
       "    }\n",
       "</style>\n",
       "<table border=\"1\" class=\"dataframe\">\n",
       "  <thead>\n",
       "    <tr style=\"text-align: right;\">\n",
       "      <th></th>\n",
       "      <th>Sample code number</th>\n",
       "      <th>Clump Thickness</th>\n",
       "      <th>Uniformity of Cell Size</th>\n",
       "      <th>Uniformity of Cell Shape</th>\n",
       "      <th>Marginal Adhesion</th>\n",
       "      <th>Single Epithelial Cell Size</th>\n",
       "      <th>Bare Nuclei</th>\n",
       "      <th>Bland Chromatin</th>\n",
       "      <th>Normal Nucleoli</th>\n",
       "      <th>Mitoses</th>\n",
       "      <th>Class</th>\n",
       "    </tr>\n",
       "  </thead>\n",
       "  <tbody>\n",
       "    <tr>\n",
       "      <th>count</th>\n",
       "      <td>6.990000e+02</td>\n",
       "      <td>699.000000</td>\n",
       "      <td>699.000000</td>\n",
       "      <td>699.000000</td>\n",
       "      <td>699.000000</td>\n",
       "      <td>699.000000</td>\n",
       "      <td>699</td>\n",
       "      <td>699.000000</td>\n",
       "      <td>699.000000</td>\n",
       "      <td>699.000000</td>\n",
       "      <td>699.000000</td>\n",
       "    </tr>\n",
       "    <tr>\n",
       "      <th>unique</th>\n",
       "      <td>NaN</td>\n",
       "      <td>NaN</td>\n",
       "      <td>NaN</td>\n",
       "      <td>NaN</td>\n",
       "      <td>NaN</td>\n",
       "      <td>NaN</td>\n",
       "      <td>11</td>\n",
       "      <td>NaN</td>\n",
       "      <td>NaN</td>\n",
       "      <td>NaN</td>\n",
       "      <td>NaN</td>\n",
       "    </tr>\n",
       "    <tr>\n",
       "      <th>top</th>\n",
       "      <td>NaN</td>\n",
       "      <td>NaN</td>\n",
       "      <td>NaN</td>\n",
       "      <td>NaN</td>\n",
       "      <td>NaN</td>\n",
       "      <td>NaN</td>\n",
       "      <td>1</td>\n",
       "      <td>NaN</td>\n",
       "      <td>NaN</td>\n",
       "      <td>NaN</td>\n",
       "      <td>NaN</td>\n",
       "    </tr>\n",
       "    <tr>\n",
       "      <th>freq</th>\n",
       "      <td>NaN</td>\n",
       "      <td>NaN</td>\n",
       "      <td>NaN</td>\n",
       "      <td>NaN</td>\n",
       "      <td>NaN</td>\n",
       "      <td>NaN</td>\n",
       "      <td>402</td>\n",
       "      <td>NaN</td>\n",
       "      <td>NaN</td>\n",
       "      <td>NaN</td>\n",
       "      <td>NaN</td>\n",
       "    </tr>\n",
       "    <tr>\n",
       "      <th>mean</th>\n",
       "      <td>1.071704e+06</td>\n",
       "      <td>4.417740</td>\n",
       "      <td>3.134478</td>\n",
       "      <td>3.207439</td>\n",
       "      <td>2.806867</td>\n",
       "      <td>3.216023</td>\n",
       "      <td>NaN</td>\n",
       "      <td>3.437768</td>\n",
       "      <td>2.866953</td>\n",
       "      <td>1.589413</td>\n",
       "      <td>2.689557</td>\n",
       "    </tr>\n",
       "    <tr>\n",
       "      <th>std</th>\n",
       "      <td>6.170957e+05</td>\n",
       "      <td>2.815741</td>\n",
       "      <td>3.051459</td>\n",
       "      <td>2.971913</td>\n",
       "      <td>2.855379</td>\n",
       "      <td>2.214300</td>\n",
       "      <td>NaN</td>\n",
       "      <td>2.438364</td>\n",
       "      <td>3.053634</td>\n",
       "      <td>1.715078</td>\n",
       "      <td>0.951273</td>\n",
       "    </tr>\n",
       "    <tr>\n",
       "      <th>min</th>\n",
       "      <td>6.163400e+04</td>\n",
       "      <td>1.000000</td>\n",
       "      <td>1.000000</td>\n",
       "      <td>1.000000</td>\n",
       "      <td>1.000000</td>\n",
       "      <td>1.000000</td>\n",
       "      <td>NaN</td>\n",
       "      <td>1.000000</td>\n",
       "      <td>1.000000</td>\n",
       "      <td>1.000000</td>\n",
       "      <td>2.000000</td>\n",
       "    </tr>\n",
       "    <tr>\n",
       "      <th>25%</th>\n",
       "      <td>8.706885e+05</td>\n",
       "      <td>2.000000</td>\n",
       "      <td>1.000000</td>\n",
       "      <td>1.000000</td>\n",
       "      <td>1.000000</td>\n",
       "      <td>2.000000</td>\n",
       "      <td>NaN</td>\n",
       "      <td>2.000000</td>\n",
       "      <td>1.000000</td>\n",
       "      <td>1.000000</td>\n",
       "      <td>2.000000</td>\n",
       "    </tr>\n",
       "    <tr>\n",
       "      <th>50%</th>\n",
       "      <td>1.171710e+06</td>\n",
       "      <td>4.000000</td>\n",
       "      <td>1.000000</td>\n",
       "      <td>1.000000</td>\n",
       "      <td>1.000000</td>\n",
       "      <td>2.000000</td>\n",
       "      <td>NaN</td>\n",
       "      <td>3.000000</td>\n",
       "      <td>1.000000</td>\n",
       "      <td>1.000000</td>\n",
       "      <td>2.000000</td>\n",
       "    </tr>\n",
       "    <tr>\n",
       "      <th>75%</th>\n",
       "      <td>1.238298e+06</td>\n",
       "      <td>6.000000</td>\n",
       "      <td>5.000000</td>\n",
       "      <td>5.000000</td>\n",
       "      <td>4.000000</td>\n",
       "      <td>4.000000</td>\n",
       "      <td>NaN</td>\n",
       "      <td>5.000000</td>\n",
       "      <td>4.000000</td>\n",
       "      <td>1.000000</td>\n",
       "      <td>4.000000</td>\n",
       "    </tr>\n",
       "    <tr>\n",
       "      <th>max</th>\n",
       "      <td>1.345435e+07</td>\n",
       "      <td>10.000000</td>\n",
       "      <td>10.000000</td>\n",
       "      <td>10.000000</td>\n",
       "      <td>10.000000</td>\n",
       "      <td>10.000000</td>\n",
       "      <td>NaN</td>\n",
       "      <td>10.000000</td>\n",
       "      <td>10.000000</td>\n",
       "      <td>10.000000</td>\n",
       "      <td>4.000000</td>\n",
       "    </tr>\n",
       "  </tbody>\n",
       "</table>\n",
       "</div>"
      ],
      "text/plain": [
       "        Sample code number  Clump Thickness  Uniformity of Cell Size  \\\n",
       "count         6.990000e+02       699.000000               699.000000   \n",
       "unique                 NaN              NaN                      NaN   \n",
       "top                    NaN              NaN                      NaN   \n",
       "freq                   NaN              NaN                      NaN   \n",
       "mean          1.071704e+06         4.417740                 3.134478   \n",
       "std           6.170957e+05         2.815741                 3.051459   \n",
       "min           6.163400e+04         1.000000                 1.000000   \n",
       "25%           8.706885e+05         2.000000                 1.000000   \n",
       "50%           1.171710e+06         4.000000                 1.000000   \n",
       "75%           1.238298e+06         6.000000                 5.000000   \n",
       "max           1.345435e+07        10.000000                10.000000   \n",
       "\n",
       "        Uniformity of Cell Shape  Marginal Adhesion  \\\n",
       "count                 699.000000         699.000000   \n",
       "unique                       NaN                NaN   \n",
       "top                          NaN                NaN   \n",
       "freq                         NaN                NaN   \n",
       "mean                    3.207439           2.806867   \n",
       "std                     2.971913           2.855379   \n",
       "min                     1.000000           1.000000   \n",
       "25%                     1.000000           1.000000   \n",
       "50%                     1.000000           1.000000   \n",
       "75%                     5.000000           4.000000   \n",
       "max                    10.000000          10.000000   \n",
       "\n",
       "        Single Epithelial Cell Size Bare Nuclei  Bland Chromatin  \\\n",
       "count                    699.000000         699       699.000000   \n",
       "unique                          NaN          11              NaN   \n",
       "top                             NaN           1              NaN   \n",
       "freq                            NaN         402              NaN   \n",
       "mean                       3.216023         NaN         3.437768   \n",
       "std                        2.214300         NaN         2.438364   \n",
       "min                        1.000000         NaN         1.000000   \n",
       "25%                        2.000000         NaN         2.000000   \n",
       "50%                        2.000000         NaN         3.000000   \n",
       "75%                        4.000000         NaN         5.000000   \n",
       "max                       10.000000         NaN        10.000000   \n",
       "\n",
       "        Normal Nucleoli     Mitoses       Class  \n",
       "count        699.000000  699.000000  699.000000  \n",
       "unique              NaN         NaN         NaN  \n",
       "top                 NaN         NaN         NaN  \n",
       "freq                NaN         NaN         NaN  \n",
       "mean           2.866953    1.589413    2.689557  \n",
       "std            3.053634    1.715078    0.951273  \n",
       "min            1.000000    1.000000    2.000000  \n",
       "25%            1.000000    1.000000    2.000000  \n",
       "50%            1.000000    1.000000    2.000000  \n",
       "75%            4.000000    1.000000    4.000000  \n",
       "max           10.000000   10.000000    4.000000  "
      ]
     },
     "execution_count": 343,
     "metadata": {},
     "output_type": "execute_result"
    }
   ],
   "source": [
    "df_cancer_data.describe(include='all')"
   ]
  },
  {
   "cell_type": "markdown",
   "metadata": {},
   "source": [
    "### 2-c) Provide appropriate visualization to get an insight about the dataset\n",
    "### 2-d) Try exploring the data and see what insights can be drawn from the dataset"
   ]
  },
  {
   "cell_type": "code",
   "execution_count": 344,
   "metadata": {
    "scrolled": true
   },
   "outputs": [
    {
     "data": {
      "image/png": "[encoded data removed]",
      "text/plain": [
       "<Figure size 432x288 with 1 Axes>"
      ]
     },
     "metadata": {
      "needs_background": "light"
     },
     "output_type": "display_data"
    }
   ],
   "source": [
    "df_cancer_data_benign = df_cancer_data[df_cancer_data.Class == 2]\n",
    "df_cancer_data_malignant = df_cancer_data[df_cancer_data.Class == 4]\n",
    "  \n",
    "df_cancer_data_benign = df_cancer_data_benign.sort_values(by=['Clump Thickness'])\n",
    "  \n",
    "plt.plot(df_cancer_data_benign['Class'], df_cancer_data_benign['Clump Thickness'], color='red', marker='o')\n",
    "plt.title('Class Vs Clump Thickness', fontsize=14)\n",
    "plt.xlabel('Class', fontsize=14)\n",
    "plt.ylabel('Clump Thickness', fontsize=14)\n",
    "plt.grid(True)\n",
    "plt.show()"
   ]
  },
  {
   "cell_type": "markdown",
   "metadata": {},
   "source": [
    "### Visualization using Box Plot"
   ]
  },
  {
   "cell_type": "code",
   "execution_count": 345,
   "metadata": {},
   "outputs": [
    {
     "data": {
      "image/png": "[encoded data removed]",
      "text/plain": [
       "<Figure size 1800x1080 with 1 Axes>"
      ]
     },
     "metadata": {
      "needs_background": "light"
     },
     "output_type": "display_data"
    }
   ],
   "source": [
    "df_cancer_data[list(df_cancer_data.columns)[1:]].plot(kind='box', figsize =(25, 15))\n",
    "plt.show()"
   ]
  },
  {
   "cell_type": "markdown",
   "metadata": {},
   "source": [
    "### Total no: of patients in sample data"
   ]
  },
  {
   "cell_type": "code",
   "execution_count": 346,
   "metadata": {},
   "outputs": [
    {
     "name": "stdout",
     "output_type": "stream",
     "text": [
      "Total no: of patients:  699\n"
     ]
    }
   ],
   "source": [
    "print(\"Total no: of patients: \", df_cancer_data.shape[0])"
   ]
  },
  {
   "cell_type": "markdown",
   "metadata": {},
   "source": [
    "### Patient distribution based on benign and malignant"
   ]
  },
  {
   "cell_type": "code",
   "execution_count": 347,
   "metadata": {},
   "outputs": [
    {
     "data": {
      "text/html": [
       "<div>\n",
       "<style scoped>\n",
       "    .dataframe tbody tr th:only-of-type {\n",
       "        vertical-align: middle;\n",
       "    }\n",
       "\n",
       "    .dataframe tbody tr th {\n",
       "        vertical-align: top;\n",
       "    }\n",
       "\n",
       "    .dataframe thead tr th {\n",
       "        text-align: left;\n",
       "    }\n",
       "\n",
       "    .dataframe thead tr:last-of-type th {\n",
       "        text-align: right;\n",
       "    }\n",
       "</style>\n",
       "<table border=\"1\" class=\"dataframe\">\n",
       "  <thead>\n",
       "    <tr>\n",
       "      <th></th>\n",
       "      <th colspan=\"8\" halign=\"left\">Sample code number</th>\n",
       "      <th colspan=\"2\" halign=\"left\">Clump Thickness</th>\n",
       "      <th>...</th>\n",
       "      <th colspan=\"2\" halign=\"left\">Normal Nucleoli</th>\n",
       "      <th colspan=\"8\" halign=\"left\">Mitoses</th>\n",
       "    </tr>\n",
       "    <tr>\n",
       "      <th></th>\n",
       "      <th>count</th>\n",
       "      <th>mean</th>\n",
       "      <th>std</th>\n",
       "      <th>min</th>\n",
       "      <th>25%</th>\n",
       "      <th>50%</th>\n",
       "      <th>75%</th>\n",
       "      <th>max</th>\n",
       "      <th>count</th>\n",
       "      <th>mean</th>\n",
       "      <th>...</th>\n",
       "      <th>75%</th>\n",
       "      <th>max</th>\n",
       "      <th>count</th>\n",
       "      <th>mean</th>\n",
       "      <th>std</th>\n",
       "      <th>min</th>\n",
       "      <th>25%</th>\n",
       "      <th>50%</th>\n",
       "      <th>75%</th>\n",
       "      <th>max</th>\n",
       "    </tr>\n",
       "    <tr>\n",
       "      <th>Class</th>\n",
       "      <th></th>\n",
       "      <th></th>\n",
       "      <th></th>\n",
       "      <th></th>\n",
       "      <th></th>\n",
       "      <th></th>\n",
       "      <th></th>\n",
       "      <th></th>\n",
       "      <th></th>\n",
       "      <th></th>\n",
       "      <th></th>\n",
       "      <th></th>\n",
       "      <th></th>\n",
       "      <th></th>\n",
       "      <th></th>\n",
       "      <th></th>\n",
       "      <th></th>\n",
       "      <th></th>\n",
       "      <th></th>\n",
       "      <th></th>\n",
       "      <th></th>\n",
       "    </tr>\n",
       "  </thead>\n",
       "  <tbody>\n",
       "    <tr>\n",
       "      <th>2</th>\n",
       "      <td>458.0</td>\n",
       "      <td>1.107591e+06</td>\n",
       "      <td>723431.757966</td>\n",
       "      <td>61634.0</td>\n",
       "      <td>1002614.25</td>\n",
       "      <td>1180170.5</td>\n",
       "      <td>1256870.5</td>\n",
       "      <td>13454352.0</td>\n",
       "      <td>458.0</td>\n",
       "      <td>2.956332</td>\n",
       "      <td>...</td>\n",
       "      <td>1.0</td>\n",
       "      <td>9.0</td>\n",
       "      <td>458.0</td>\n",
       "      <td>1.063319</td>\n",
       "      <td>0.501995</td>\n",
       "      <td>1.0</td>\n",
       "      <td>1.0</td>\n",
       "      <td>1.0</td>\n",
       "      <td>1.0</td>\n",
       "      <td>8.0</td>\n",
       "    </tr>\n",
       "    <tr>\n",
       "      <th>4</th>\n",
       "      <td>241.0</td>\n",
       "      <td>1.003505e+06</td>\n",
       "      <td>322232.308608</td>\n",
       "      <td>63375.0</td>\n",
       "      <td>832226.00</td>\n",
       "      <td>1126417.0</td>\n",
       "      <td>1221863.0</td>\n",
       "      <td>1371026.0</td>\n",
       "      <td>241.0</td>\n",
       "      <td>7.195021</td>\n",
       "      <td>...</td>\n",
       "      <td>10.0</td>\n",
       "      <td>10.0</td>\n",
       "      <td>241.0</td>\n",
       "      <td>2.589212</td>\n",
       "      <td>2.557939</td>\n",
       "      <td>1.0</td>\n",
       "      <td>1.0</td>\n",
       "      <td>1.0</td>\n",
       "      <td>3.0</td>\n",
       "      <td>10.0</td>\n",
       "    </tr>\n",
       "  </tbody>\n",
       "</table>\n",
       "<p>2 rows × 72 columns</p>\n",
       "</div>"
      ],
      "text/plain": [
       "      Sample code number                                                    \\\n",
       "                   count          mean            std      min         25%   \n",
       "Class                                                                        \n",
       "2                  458.0  1.107591e+06  723431.757966  61634.0  1002614.25   \n",
       "4                  241.0  1.003505e+06  322232.308608  63375.0   832226.00   \n",
       "\n",
       "                                        Clump Thickness            ...  \\\n",
       "             50%        75%         max           count      mean  ...   \n",
       "Class                                                              ...   \n",
       "2      1180170.5  1256870.5  13454352.0           458.0  2.956332  ...   \n",
       "4      1126417.0  1221863.0   1371026.0           241.0  7.195021  ...   \n",
       "\n",
       "      Normal Nucleoli       Mitoses                                          \\\n",
       "                  75%   max   count      mean       std  min  25%  50%  75%   \n",
       "Class                                                                         \n",
       "2                 1.0   9.0   458.0  1.063319  0.501995  1.0  1.0  1.0  1.0   \n",
       "4                10.0  10.0   241.0  2.589212  2.557939  1.0  1.0  1.0  3.0   \n",
       "\n",
       "             \n",
       "        max  \n",
       "Class        \n",
       "2       8.0  \n",
       "4      10.0  \n",
       "\n",
       "[2 rows x 72 columns]"
      ]
     },
     "execution_count": 347,
     "metadata": {},
     "output_type": "execute_result"
    }
   ],
   "source": [
    "df_cancer_data.groupby('Class').describe()"
   ]
  },
  {
   "cell_type": "code",
   "execution_count": 348,
   "metadata": {},
   "outputs": [
    {
     "data": {
      "text/html": [
       "<div>\n",
       "<style scoped>\n",
       "    .dataframe tbody tr th:only-of-type {\n",
       "        vertical-align: middle;\n",
       "    }\n",
       "\n",
       "    .dataframe tbody tr th {\n",
       "        vertical-align: top;\n",
       "    }\n",
       "\n",
       "    .dataframe thead th {\n",
       "        text-align: right;\n",
       "    }\n",
       "</style>\n",
       "<table border=\"1\" class=\"dataframe\">\n",
       "  <thead>\n",
       "    <tr style=\"text-align: right;\">\n",
       "      <th></th>\n",
       "      <th>Clump Thickness</th>\n",
       "      <th>Uniformity of Cell Size</th>\n",
       "      <th>Uniformity of Cell Shape</th>\n",
       "      <th>Marginal Adhesion</th>\n",
       "      <th>Single Epithelial Cell Size</th>\n",
       "      <th>Bland Chromatin</th>\n",
       "      <th>Normal Nucleoli</th>\n",
       "      <th>Mitoses</th>\n",
       "    </tr>\n",
       "    <tr>\n",
       "      <th>Class</th>\n",
       "      <th></th>\n",
       "      <th></th>\n",
       "      <th></th>\n",
       "      <th></th>\n",
       "      <th></th>\n",
       "      <th></th>\n",
       "      <th></th>\n",
       "      <th></th>\n",
       "    </tr>\n",
       "  </thead>\n",
       "  <tbody>\n",
       "    <tr>\n",
       "      <th>2</th>\n",
       "      <td>2.956332</td>\n",
       "      <td>1.325328</td>\n",
       "      <td>1.443231</td>\n",
       "      <td>1.364629</td>\n",
       "      <td>2.120087</td>\n",
       "      <td>2.100437</td>\n",
       "      <td>1.290393</td>\n",
       "      <td>1.063319</td>\n",
       "    </tr>\n",
       "    <tr>\n",
       "      <th>4</th>\n",
       "      <td>7.195021</td>\n",
       "      <td>6.572614</td>\n",
       "      <td>6.560166</td>\n",
       "      <td>5.547718</td>\n",
       "      <td>5.298755</td>\n",
       "      <td>5.979253</td>\n",
       "      <td>5.863071</td>\n",
       "      <td>2.589212</td>\n",
       "    </tr>\n",
       "  </tbody>\n",
       "</table>\n",
       "</div>"
      ],
      "text/plain": [
       "       Clump Thickness  Uniformity of Cell Size  Uniformity of Cell Shape  \\\n",
       "Class                                                                       \n",
       "2             2.956332                 1.325328                  1.443231   \n",
       "4             7.195021                 6.572614                  6.560166   \n",
       "\n",
       "       Marginal Adhesion  Single Epithelial Cell Size  Bland Chromatin  \\\n",
       "Class                                                                    \n",
       "2               1.364629                     2.120087         2.100437   \n",
       "4               5.547718                     5.298755         5.979253   \n",
       "\n",
       "       Normal Nucleoli   Mitoses  \n",
       "Class                             \n",
       "2             1.290393  1.063319  \n",
       "4             5.863071  2.589212  "
      ]
     },
     "execution_count": 348,
     "metadata": {},
     "output_type": "execute_result"
    }
   ],
   "source": [
    "grouped = df_cancer_data.groupby('Class')  \n",
    "grouped['Clump Thickness','Uniformity of Cell Size','Uniformity of Cell Shape',\n",
    "                                         'Marginal Adhesion','Single Epithelial Cell Size','Bare Nuclei','Bland Chromatin',\n",
    "                                         'Normal Nucleoli','Mitoses'].agg(np.mean)"
   ]
  },
  {
   "cell_type": "code",
   "execution_count": 349,
   "metadata": {},
   "outputs": [
    {
     "data": {
      "text/html": [
       "<div>\n",
       "<style scoped>\n",
       "    .dataframe tbody tr th:only-of-type {\n",
       "        vertical-align: middle;\n",
       "    }\n",
       "\n",
       "    .dataframe tbody tr th {\n",
       "        vertical-align: top;\n",
       "    }\n",
       "\n",
       "    .dataframe thead th {\n",
       "        text-align: right;\n",
       "    }\n",
       "</style>\n",
       "<table border=\"1\" class=\"dataframe\">\n",
       "  <thead>\n",
       "    <tr style=\"text-align: right;\">\n",
       "      <th></th>\n",
       "      <th>Clump Thickness</th>\n",
       "      <th>Uniformity of Cell Size</th>\n",
       "      <th>Uniformity of Cell Shape</th>\n",
       "      <th>Marginal Adhesion</th>\n",
       "      <th>Single Epithelial Cell Size</th>\n",
       "      <th>Bland Chromatin</th>\n",
       "      <th>Normal Nucleoli</th>\n",
       "      <th>Mitoses</th>\n",
       "    </tr>\n",
       "    <tr>\n",
       "      <th>Class</th>\n",
       "      <th></th>\n",
       "      <th></th>\n",
       "      <th></th>\n",
       "      <th></th>\n",
       "      <th></th>\n",
       "      <th></th>\n",
       "      <th></th>\n",
       "      <th></th>\n",
       "    </tr>\n",
       "  </thead>\n",
       "  <tbody>\n",
       "    <tr>\n",
       "      <th>2</th>\n",
       "      <td>3</td>\n",
       "      <td>1</td>\n",
       "      <td>1</td>\n",
       "      <td>1</td>\n",
       "      <td>2</td>\n",
       "      <td>2</td>\n",
       "      <td>1</td>\n",
       "      <td>1</td>\n",
       "    </tr>\n",
       "    <tr>\n",
       "      <th>4</th>\n",
       "      <td>8</td>\n",
       "      <td>6</td>\n",
       "      <td>6</td>\n",
       "      <td>5</td>\n",
       "      <td>5</td>\n",
       "      <td>7</td>\n",
       "      <td>6</td>\n",
       "      <td>1</td>\n",
       "    </tr>\n",
       "  </tbody>\n",
       "</table>\n",
       "</div>"
      ],
      "text/plain": [
       "       Clump Thickness  Uniformity of Cell Size  Uniformity of Cell Shape  \\\n",
       "Class                                                                       \n",
       "2                    3                        1                         1   \n",
       "4                    8                        6                         6   \n",
       "\n",
       "       Marginal Adhesion  Single Epithelial Cell Size  Bland Chromatin  \\\n",
       "Class                                                                    \n",
       "2                      1                            2                2   \n",
       "4                      5                            5                7   \n",
       "\n",
       "       Normal Nucleoli  Mitoses  \n",
       "Class                            \n",
       "2                    1        1  \n",
       "4                    6        1  "
      ]
     },
     "execution_count": 349,
     "metadata": {},
     "output_type": "execute_result"
    }
   ],
   "source": [
    "grouped = df_cancer_data.groupby('Class')  \n",
    "grouped['Clump Thickness','Uniformity of Cell Size','Uniformity of Cell Shape',\n",
    "                                         'Marginal Adhesion','Single Epithelial Cell Size','Bare Nuclei','Bland Chromatin',\n",
    "                                         'Normal Nucleoli','Mitoses'].agg(np.median)"
   ]
  },
  {
   "cell_type": "code",
   "execution_count": 350,
   "metadata": {
    "scrolled": true
   },
   "outputs": [
    {
     "data": {
      "image/png": "[encoded data removed]",
      "text/plain": [
       "<Figure size 1440x432 with 1 Axes>"
      ]
     },
     "metadata": {
      "needs_background": "light"
     },
     "output_type": "display_data"
    }
   ],
   "source": [
    "df_cancer_data_benign = df_cancer_data[df_cancer_data.Class == 2][list(df_cancer_data.columns)[1:]]\n",
    "df_cancer_data_malignant = df_cancer_data[df_cancer_data.Class == 4][list(df_cancer_data.columns)[1:]]\n",
    "\n",
    "boxplot1 = df_cancer_data_benign.plot(kind='box', figsize =(20, 6))\n",
    "boxplot1.set_title('Benign Box Plot', fontdict={'fontsize':16, 'fontweight': 'bold'})\n",
    "\n",
    "# show plot\n",
    "plt.show()"
   ]
  },
  {
   "cell_type": "code",
   "execution_count": 351,
   "metadata": {},
   "outputs": [
    {
     "data": {
      "image/png": "[encoded data removed]",
      "text/plain": [
       "<Figure size 1440x432 with 1 Axes>"
      ]
     },
     "metadata": {
      "needs_background": "light"
     },
     "output_type": "display_data"
    }
   ],
   "source": [
    "boxplot2 = df_cancer_data_malignant.plot(kind='box', figsize =(20,6))\n",
    "boxplot2.set_title('Malignant Box Plot', fontdict={'fontsize':16, 'fontweight': 'bold'})\n",
    "\n",
    "# show plot\n",
    "plt.show()"
   ]
  },
  {
   "cell_type": "markdown",
   "metadata": {},
   "source": [
    "## 3) DATA PREPROCESSING AND CLEANING"
   ]
  },
  {
   "cell_type": "markdown",
   "metadata": {},
   "source": [
    "### 3-a) Preprocessing of the data - identifying NULL or Missing Values  "
   ]
  },
  {
   "cell_type": "code",
   "execution_count": 352,
   "metadata": {},
   "outputs": [
    {
     "name": "stdout",
     "output_type": "stream",
     "text": [
      "<class 'pandas.core.frame.DataFrame'>\n",
      "RangeIndex: 699 entries, 0 to 698\n",
      "Data columns (total 11 columns):\n",
      " #   Column                       Non-Null Count  Dtype \n",
      "---  ------                       --------------  ----- \n",
      " 0   Sample code number           699 non-null    int64 \n",
      " 1   Clump Thickness              699 non-null    int64 \n",
      " 2   Uniformity of Cell Size      699 non-null    int64 \n",
      " 3   Uniformity of Cell Shape     699 non-null    int64 \n",
      " 4   Marginal Adhesion            699 non-null    int64 \n",
      " 5   Single Epithelial Cell Size  699 non-null    int64 \n",
      " 6   Bare Nuclei                  699 non-null    object\n",
      " 7   Bland Chromatin              699 non-null    int64 \n",
      " 8   Normal Nucleoli              699 non-null    int64 \n",
      " 9   Mitoses                      699 non-null    int64 \n",
      " 10  Class                        699 non-null    int64 \n",
      "dtypes: int64(10), object(1)\n",
      "memory usage: 60.2+ KB\n"
     ]
    }
   ],
   "source": [
    "df_cancer_data.info()\n",
    "\n",
    "# Inference\n",
    "# There are no null or missing values. \n",
    "# Type of all columns is integer except 'Bare Nuclei'"
   ]
  },
  {
   "cell_type": "code",
   "execution_count": 353,
   "metadata": {},
   "outputs": [
    {
     "name": "stdout",
     "output_type": "stream",
     "text": [
      "Unique values in Bare Nuclei:  ['1' '10' '2' '4' '3' '9' '7' '?' '5' '8' '6']\n",
      "Unique values after replacement:  ['1' '10' '2' '4' '3' '9' '7' 0 '5' '8' '6']\n"
     ]
    }
   ],
   "source": [
    "# Bare Nuclei contains string values\n",
    "print(\"Unique values in Bare Nuclei: \", df_cancer_data['Bare Nuclei'].unique())\n",
    "\n",
    "# Unknown value '?' can be replaced with 0\n",
    "df_cancer_data = df_cancer_data.replace('?', 0)\n",
    "\n",
    "print(\"Unique values after replacement: \", df_cancer_data['Bare Nuclei'].unique())"
   ]
  },
  {
   "cell_type": "code",
   "execution_count": 354,
   "metadata": {},
   "outputs": [
    {
     "name": "stdout",
     "output_type": "stream",
     "text": [
      "<class 'pandas.core.frame.DataFrame'>\n",
      "RangeIndex: 699 entries, 0 to 698\n",
      "Data columns (total 10 columns):\n",
      " #   Column                       Non-Null Count  Dtype\n",
      "---  ------                       --------------  -----\n",
      " 0   Clump Thickness              699 non-null    int64\n",
      " 1   Uniformity of Cell Size      699 non-null    int64\n",
      " 2   Uniformity of Cell Shape     699 non-null    int64\n",
      " 3   Marginal Adhesion            699 non-null    int64\n",
      " 4   Single Epithelial Cell Size  699 non-null    int64\n",
      " 5   Bare Nuclei                  699 non-null    int64\n",
      " 6   Bland Chromatin              699 non-null    int64\n",
      " 7   Normal Nucleoli              699 non-null    int64\n",
      " 8   Mitoses                      699 non-null    int64\n",
      " 9   Class                        699 non-null    int64\n",
      "dtypes: int64(10)\n",
      "memory usage: 54.7 KB\n"
     ]
    }
   ],
   "source": [
    "# Get all columns except 'Sample code number'\n",
    "df_cancer_data = df_cancer_data[list(df_cancer_data.columns)[1:]]\n",
    "\n",
    "# Converting all columns to integer\n",
    "df_cancer_data = df_cancer_data.applymap(int)\n",
    "\n",
    "df_cancer_data.info()"
   ]
  },
  {
   "cell_type": "code",
   "execution_count": 355,
   "metadata": {},
   "outputs": [
    {
     "data": {
      "image/png": "[encoded data removed]",
      "text/plain": [
       "<Figure size 1800x1080 with 1 Axes>"
      ]
     },
     "metadata": {
      "needs_background": "light"
     },
     "output_type": "display_data"
    }
   ],
   "source": [
    "# Detecting Outliers using Box Plot\n",
    "\n",
    "boxplot = df_cancer_data[df_cancer_data.columns[1:]].plot(kind='box', figsize=(25, 15))\n",
    "boxplot.set_title('Outlier Detection', fontdict={'fontsize':16, 'fontweight': 'bold'})\n",
    "\n",
    "# show plot\n",
    "plt.show()"
   ]
  },
  {
   "cell_type": "code",
   "execution_count": 356,
   "metadata": {},
   "outputs": [
    {
     "name": "stdout",
     "output_type": "stream",
     "text": [
      "Dataset shape with outliers:  (699, 10)\n",
      "Dataset shape without outliers:  (504, 10)\n"
     ]
    }
   ],
   "source": [
    "# Remove Outliers\n",
    "print(\"Dataset shape with outliers: \", df_cancer_data.shape)\n",
    "Q1 = df_cancer_data.quantile(0.25)\n",
    "Q3 = df_cancer_data.quantile(0.75)\n",
    "IQR = Q3 - Q1\n",
    "df_cancer_data = df_cancer_data[~((df_cancer_data < (Q1 - 1.5 * IQR)) |(df_cancer_data > (Q3 + 1.5 * IQR))).any(axis=1)]\n",
    "print(\"Dataset shape without outliers: \", df_cancer_data.shape)"
   ]
  },
  {
   "cell_type": "markdown",
   "metadata": {},
   "source": [
    "### Inference"
   ]
  },
  {
   "cell_type": "markdown",
   "metadata": {},
   "source": [
    "Columns - Marginal Adhesion, Single Epithelial Cell Size, Bland Chromatin, Normal Nucleoli, Mitoses are columns with outliers. Outliers are denoted by circles outside the boxplot whiskers.\n",
    "\n",
    "Outliers are removed by considering only data that is within the range (Q1 - 1.5 * IQR, Q3 + 1.5 * IQR) where IQR = Interquartile Range."
   ]
  },
  {
   "cell_type": "markdown",
   "metadata": {},
   "source": [
    "### 3-b) Feature transformation using Standardization"
   ]
  },
  {
   "cell_type": "code",
   "execution_count": 357,
   "metadata": {},
   "outputs": [
    {
     "data": {
      "text/html": [
       "<div>\n",
       "<style scoped>\n",
       "    .dataframe tbody tr th:only-of-type {\n",
       "        vertical-align: middle;\n",
       "    }\n",
       "\n",
       "    .dataframe tbody tr th {\n",
       "        vertical-align: top;\n",
       "    }\n",
       "\n",
       "    .dataframe thead th {\n",
       "        text-align: right;\n",
       "    }\n",
       "</style>\n",
       "<table border=\"1\" class=\"dataframe\">\n",
       "  <thead>\n",
       "    <tr style=\"text-align: right;\">\n",
       "      <th></th>\n",
       "      <th>0</th>\n",
       "      <th>1</th>\n",
       "      <th>2</th>\n",
       "      <th>3</th>\n",
       "      <th>4</th>\n",
       "      <th>5</th>\n",
       "      <th>6</th>\n",
       "      <th>7</th>\n",
       "      <th>8</th>\n",
       "    </tr>\n",
       "  </thead>\n",
       "  <tbody>\n",
       "    <tr>\n",
       "      <th>0</th>\n",
       "      <td>0.713835</td>\n",
       "      <td>-0.442571</td>\n",
       "      <td>-0.511502</td>\n",
       "      <td>-0.455137</td>\n",
       "      <td>-0.267908</td>\n",
       "      <td>-0.422444</td>\n",
       "      <td>0.322968</td>\n",
       "      <td>-0.373795</td>\n",
       "      <td>0.0</td>\n",
       "    </tr>\n",
       "    <tr>\n",
       "      <th>1</th>\n",
       "      <td>0.713835</td>\n",
       "      <td>1.209693</td>\n",
       "      <td>1.060431</td>\n",
       "      <td>2.467019</td>\n",
       "      <td>4.696263</td>\n",
       "      <td>2.981121</td>\n",
       "      <td>0.322968</td>\n",
       "      <td>0.339814</td>\n",
       "      <td>0.0</td>\n",
       "    </tr>\n",
       "    <tr>\n",
       "      <th>2</th>\n",
       "      <td>-0.191254</td>\n",
       "      <td>-0.442571</td>\n",
       "      <td>-0.511502</td>\n",
       "      <td>-0.455137</td>\n",
       "      <td>-0.267908</td>\n",
       "      <td>-0.044270</td>\n",
       "      <td>0.322968</td>\n",
       "      <td>-0.373795</td>\n",
       "      <td>0.0</td>\n",
       "    </tr>\n",
       "    <tr>\n",
       "      <th>3</th>\n",
       "      <td>1.166379</td>\n",
       "      <td>3.412711</td>\n",
       "      <td>3.156341</td>\n",
       "      <td>-0.455137</td>\n",
       "      <td>0.724927</td>\n",
       "      <td>0.712077</td>\n",
       "      <td>0.322968</td>\n",
       "      <td>3.907859</td>\n",
       "      <td>0.0</td>\n",
       "    </tr>\n",
       "    <tr>\n",
       "      <th>4</th>\n",
       "      <td>0.261290</td>\n",
       "      <td>-0.442571</td>\n",
       "      <td>-0.511502</td>\n",
       "      <td>1.005941</td>\n",
       "      <td>-0.267908</td>\n",
       "      <td>-0.422444</td>\n",
       "      <td>0.322968</td>\n",
       "      <td>-0.373795</td>\n",
       "      <td>0.0</td>\n",
       "    </tr>\n",
       "    <tr>\n",
       "      <th>...</th>\n",
       "      <td>...</td>\n",
       "      <td>...</td>\n",
       "      <td>...</td>\n",
       "      <td>...</td>\n",
       "      <td>...</td>\n",
       "      <td>...</td>\n",
       "      <td>...</td>\n",
       "      <td>...</td>\n",
       "      <td>...</td>\n",
       "    </tr>\n",
       "    <tr>\n",
       "      <th>499</th>\n",
       "      <td>-1.096342</td>\n",
       "      <td>-0.442571</td>\n",
       "      <td>-0.511502</td>\n",
       "      <td>1.005941</td>\n",
       "      <td>-0.267908</td>\n",
       "      <td>-0.422444</td>\n",
       "      <td>-0.929153</td>\n",
       "      <td>-0.373795</td>\n",
       "      <td>0.0</td>\n",
       "    </tr>\n",
       "    <tr>\n",
       "      <th>500</th>\n",
       "      <td>0.713835</td>\n",
       "      <td>4.514220</td>\n",
       "      <td>4.204296</td>\n",
       "      <td>2.467019</td>\n",
       "      <td>1.717761</td>\n",
       "      <td>1.090251</td>\n",
       "      <td>0.949028</td>\n",
       "      <td>1.767032</td>\n",
       "      <td>0.0</td>\n",
       "    </tr>\n",
       "    <tr>\n",
       "      <th>501</th>\n",
       "      <td>-0.191254</td>\n",
       "      <td>-0.442571</td>\n",
       "      <td>-0.511502</td>\n",
       "      <td>-0.455137</td>\n",
       "      <td>-0.267908</td>\n",
       "      <td>-0.422444</td>\n",
       "      <td>-0.929153</td>\n",
       "      <td>-0.373795</td>\n",
       "      <td>0.0</td>\n",
       "    </tr>\n",
       "    <tr>\n",
       "      <th>502</th>\n",
       "      <td>-0.191254</td>\n",
       "      <td>-0.442571</td>\n",
       "      <td>-0.511502</td>\n",
       "      <td>-0.455137</td>\n",
       "      <td>0.724927</td>\n",
       "      <td>-0.044270</td>\n",
       "      <td>-0.929153</td>\n",
       "      <td>-0.373795</td>\n",
       "      <td>0.0</td>\n",
       "    </tr>\n",
       "    <tr>\n",
       "      <th>503</th>\n",
       "      <td>-0.643798</td>\n",
       "      <td>-0.442571</td>\n",
       "      <td>-0.511502</td>\n",
       "      <td>-0.455137</td>\n",
       "      <td>-0.267908</td>\n",
       "      <td>-0.422444</td>\n",
       "      <td>-0.929153</td>\n",
       "      <td>-0.373795</td>\n",
       "      <td>0.0</td>\n",
       "    </tr>\n",
       "  </tbody>\n",
       "</table>\n",
       "<p>504 rows × 9 columns</p>\n",
       "</div>"
      ],
      "text/plain": [
       "            0         1         2         3         4         5         6  \\\n",
       "0    0.713835 -0.442571 -0.511502 -0.455137 -0.267908 -0.422444  0.322968   \n",
       "1    0.713835  1.209693  1.060431  2.467019  4.696263  2.981121  0.322968   \n",
       "2   -0.191254 -0.442571 -0.511502 -0.455137 -0.267908 -0.044270  0.322968   \n",
       "3    1.166379  3.412711  3.156341 -0.455137  0.724927  0.712077  0.322968   \n",
       "4    0.261290 -0.442571 -0.511502  1.005941 -0.267908 -0.422444  0.322968   \n",
       "..        ...       ...       ...       ...       ...       ...       ...   \n",
       "499 -1.096342 -0.442571 -0.511502  1.005941 -0.267908 -0.422444 -0.929153   \n",
       "500  0.713835  4.514220  4.204296  2.467019  1.717761  1.090251  0.949028   \n",
       "501 -0.191254 -0.442571 -0.511502 -0.455137 -0.267908 -0.422444 -0.929153   \n",
       "502 -0.191254 -0.442571 -0.511502 -0.455137  0.724927 -0.044270 -0.929153   \n",
       "503 -0.643798 -0.442571 -0.511502 -0.455137 -0.267908 -0.422444 -0.929153   \n",
       "\n",
       "            7    8  \n",
       "0   -0.373795  0.0  \n",
       "1    0.339814  0.0  \n",
       "2   -0.373795  0.0  \n",
       "3    3.907859  0.0  \n",
       "4   -0.373795  0.0  \n",
       "..        ...  ...  \n",
       "499 -0.373795  0.0  \n",
       "500  1.767032  0.0  \n",
       "501 -0.373795  0.0  \n",
       "502 -0.373795  0.0  \n",
       "503 -0.373795  0.0  \n",
       "\n",
       "[504 rows x 9 columns]"
      ]
     },
     "execution_count": 357,
     "metadata": {},
     "output_type": "execute_result"
    }
   ],
   "source": [
    "standard_scaler = preprocessing.StandardScaler()\n",
    "standardised_values = standard_scaler.fit_transform(df_cancer_data[list(df_cancer_data.columns)[0:-1]])\n",
    "scaled_df = pandas.DataFrame(standardised_values)\n",
    "scaled_df"
   ]
  },
  {
   "cell_type": "markdown",
   "metadata": {},
   "source": [
    "### Inference"
   ]
  },
  {
   "cell_type": "markdown",
   "metadata": {},
   "source": [
    "Standardization is chosen because the data doesn't follow a normal distribution and is skewed."
   ]
  },
  {
   "cell_type": "markdown",
   "metadata": {},
   "source": [
    "### 3-c) Correlation Analysis"
   ]
  },
  {
   "cell_type": "code",
   "execution_count": 358,
   "metadata": {},
   "outputs": [
    {
     "data": {
      "image/png": "[encoded data removed]",
      "text/plain": [
       "<Figure size 720x720 with 2 Axes>"
      ]
     },
     "metadata": {
      "needs_background": "light"
     },
     "output_type": "display_data"
    }
   ],
   "source": [
    "plt.figure(figsize=(10,10))\n",
    "sns.heatmap(df_cancer_data.corr(), annot=True)\n",
    "plt.show()"
   ]
  },
  {
   "cell_type": "markdown",
   "metadata": {},
   "source": [
    "### Inference"
   ]
  },
  {
   "cell_type": "markdown",
   "metadata": {},
   "source": [
    "All features have **positive correlation with Class**.\n",
    "\n",
    "> Clump Thickness, Single Epithelial Cell Size, Normal Nucleoli - **Weak correlation with Class**\n",
    "\n",
    "> Uniformity of Cell Size, Uniformity of Cell Shape, Marginal Adhesion, Bland Chromatin - **Moderate correlation with Class**\n",
    "\n",
    ">Bare Nuclei - **High correlation with Class**"
   ]
  },
  {
   "cell_type": "markdown",
   "metadata": {},
   "source": [
    "## 4)\tDATA PREPARATION"
   ]
  },
  {
   "cell_type": "markdown",
   "metadata": {},
   "source": [
    "### 4-a) Do the final feature selection and extract feature and target variables"
   ]
  },
  {
   "cell_type": "code",
   "execution_count": 359,
   "metadata": {},
   "outputs": [],
   "source": [
    "from sklearn.model_selection import train_test_split\n",
    "\n",
    "# Separate features and target variable\n",
    "X = scaled_df\n",
    "y = df_cancer_data['Class']"
   ]
  },
  {
   "cell_type": "markdown",
   "metadata": {},
   "source": [
    "### 4-b) Split the dataset into train and test sets"
   ]
  },
  {
   "cell_type": "code",
   "execution_count": 360,
   "metadata": {},
   "outputs": [],
   "source": [
    "# Split the dataset into train and test sets (70-30 rule)\n",
    "X_train, X_test, y_train, y_test = train_test_split(X, y, test_size=0.3)"
   ]
  },
  {
   "cell_type": "code",
   "execution_count": 361,
   "metadata": {},
   "outputs": [
    {
     "data": {
      "text/html": [
       "<div>\n",
       "<style scoped>\n",
       "    .dataframe tbody tr th:only-of-type {\n",
       "        vertical-align: middle;\n",
       "    }\n",
       "\n",
       "    .dataframe tbody tr th {\n",
       "        vertical-align: top;\n",
       "    }\n",
       "\n",
       "    .dataframe thead th {\n",
       "        text-align: right;\n",
       "    }\n",
       "</style>\n",
       "<table border=\"1\" class=\"dataframe\">\n",
       "  <thead>\n",
       "    <tr style=\"text-align: right;\">\n",
       "      <th></th>\n",
       "      <th>0</th>\n",
       "      <th>1</th>\n",
       "      <th>2</th>\n",
       "      <th>3</th>\n",
       "      <th>4</th>\n",
       "      <th>5</th>\n",
       "      <th>6</th>\n",
       "      <th>7</th>\n",
       "      <th>8</th>\n",
       "    </tr>\n",
       "  </thead>\n",
       "  <tbody>\n",
       "    <tr>\n",
       "      <th>18</th>\n",
       "      <td>2.071467</td>\n",
       "      <td>1.209693</td>\n",
       "      <td>1.584408</td>\n",
       "      <td>-0.455137</td>\n",
       "      <td>-0.267908</td>\n",
       "      <td>-0.800618</td>\n",
       "      <td>2.827209</td>\n",
       "      <td>1.053423</td>\n",
       "      <td>0.0</td>\n",
       "    </tr>\n",
       "    <tr>\n",
       "      <th>10</th>\n",
       "      <td>-0.643798</td>\n",
       "      <td>-0.442571</td>\n",
       "      <td>-0.511502</td>\n",
       "      <td>-0.455137</td>\n",
       "      <td>-0.267908</td>\n",
       "      <td>-0.422444</td>\n",
       "      <td>-0.303093</td>\n",
       "      <td>-0.373795</td>\n",
       "      <td>0.0</td>\n",
       "    </tr>\n",
       "    <tr>\n",
       "      <th>455</th>\n",
       "      <td>0.261290</td>\n",
       "      <td>0.108184</td>\n",
       "      <td>1.060431</td>\n",
       "      <td>1.005941</td>\n",
       "      <td>-0.267908</td>\n",
       "      <td>-0.044270</td>\n",
       "      <td>-0.303093</td>\n",
       "      <td>-0.373795</td>\n",
       "      <td>0.0</td>\n",
       "    </tr>\n",
       "    <tr>\n",
       "      <th>299</th>\n",
       "      <td>0.713835</td>\n",
       "      <td>0.108184</td>\n",
       "      <td>0.012476</td>\n",
       "      <td>1.736480</td>\n",
       "      <td>-0.267908</td>\n",
       "      <td>0.712077</td>\n",
       "      <td>-0.929153</td>\n",
       "      <td>-0.373795</td>\n",
       "      <td>0.0</td>\n",
       "    </tr>\n",
       "    <tr>\n",
       "      <th>214</th>\n",
       "      <td>0.713835</td>\n",
       "      <td>1.209693</td>\n",
       "      <td>2.108386</td>\n",
       "      <td>3.197558</td>\n",
       "      <td>1.717761</td>\n",
       "      <td>2.981121</td>\n",
       "      <td>0.949028</td>\n",
       "      <td>1.053423</td>\n",
       "      <td>0.0</td>\n",
       "    </tr>\n",
       "    <tr>\n",
       "      <th>...</th>\n",
       "      <td>...</td>\n",
       "      <td>...</td>\n",
       "      <td>...</td>\n",
       "      <td>...</td>\n",
       "      <td>...</td>\n",
       "      <td>...</td>\n",
       "      <td>...</td>\n",
       "      <td>...</td>\n",
       "      <td>...</td>\n",
       "    </tr>\n",
       "    <tr>\n",
       "      <th>244</th>\n",
       "      <td>-1.096342</td>\n",
       "      <td>-0.442571</td>\n",
       "      <td>-0.511502</td>\n",
       "      <td>-0.455137</td>\n",
       "      <td>-0.267908</td>\n",
       "      <td>-0.422444</td>\n",
       "      <td>-0.929153</td>\n",
       "      <td>-0.373795</td>\n",
       "      <td>0.0</td>\n",
       "    </tr>\n",
       "    <tr>\n",
       "      <th>359</th>\n",
       "      <td>-1.096342</td>\n",
       "      <td>-0.442571</td>\n",
       "      <td>-0.511502</td>\n",
       "      <td>-0.455137</td>\n",
       "      <td>-1.260742</td>\n",
       "      <td>-0.422444</td>\n",
       "      <td>-0.303093</td>\n",
       "      <td>-0.373795</td>\n",
       "      <td>0.0</td>\n",
       "    </tr>\n",
       "    <tr>\n",
       "      <th>64</th>\n",
       "      <td>0.713835</td>\n",
       "      <td>-0.442571</td>\n",
       "      <td>-0.511502</td>\n",
       "      <td>-0.455137</td>\n",
       "      <td>-0.267908</td>\n",
       "      <td>-0.422444</td>\n",
       "      <td>0.322968</td>\n",
       "      <td>-0.373795</td>\n",
       "      <td>0.0</td>\n",
       "    </tr>\n",
       "    <tr>\n",
       "      <th>281</th>\n",
       "      <td>-0.643798</td>\n",
       "      <td>0.658938</td>\n",
       "      <td>-0.511502</td>\n",
       "      <td>-0.455137</td>\n",
       "      <td>2.710595</td>\n",
       "      <td>-0.422444</td>\n",
       "      <td>-0.929153</td>\n",
       "      <td>-0.373795</td>\n",
       "      <td>0.0</td>\n",
       "    </tr>\n",
       "    <tr>\n",
       "      <th>445</th>\n",
       "      <td>0.713835</td>\n",
       "      <td>-0.442571</td>\n",
       "      <td>-0.511502</td>\n",
       "      <td>0.275402</td>\n",
       "      <td>-1.260742</td>\n",
       "      <td>-0.422444</td>\n",
       "      <td>-0.303093</td>\n",
       "      <td>-0.373795</td>\n",
       "      <td>0.0</td>\n",
       "    </tr>\n",
       "  </tbody>\n",
       "</table>\n",
       "<p>352 rows × 9 columns</p>\n",
       "</div>"
      ],
      "text/plain": [
       "            0         1         2         3         4         5         6  \\\n",
       "18   2.071467  1.209693  1.584408 -0.455137 -0.267908 -0.800618  2.827209   \n",
       "10  -0.643798 -0.442571 -0.511502 -0.455137 -0.267908 -0.422444 -0.303093   \n",
       "455  0.261290  0.108184  1.060431  1.005941 -0.267908 -0.044270 -0.303093   \n",
       "299  0.713835  0.108184  0.012476  1.736480 -0.267908  0.712077 -0.929153   \n",
       "214  0.713835  1.209693  2.108386  3.197558  1.717761  2.981121  0.949028   \n",
       "..        ...       ...       ...       ...       ...       ...       ...   \n",
       "244 -1.096342 -0.442571 -0.511502 -0.455137 -0.267908 -0.422444 -0.929153   \n",
       "359 -1.096342 -0.442571 -0.511502 -0.455137 -1.260742 -0.422444 -0.303093   \n",
       "64   0.713835 -0.442571 -0.511502 -0.455137 -0.267908 -0.422444  0.322968   \n",
       "281 -0.643798  0.658938 -0.511502 -0.455137  2.710595 -0.422444 -0.929153   \n",
       "445  0.713835 -0.442571 -0.511502  0.275402 -1.260742 -0.422444 -0.303093   \n",
       "\n",
       "            7    8  \n",
       "18   1.053423  0.0  \n",
       "10  -0.373795  0.0  \n",
       "455 -0.373795  0.0  \n",
       "299 -0.373795  0.0  \n",
       "214  1.053423  0.0  \n",
       "..        ...  ...  \n",
       "244 -0.373795  0.0  \n",
       "359 -0.373795  0.0  \n",
       "64  -0.373795  0.0  \n",
       "281 -0.373795  0.0  \n",
       "445 -0.373795  0.0  \n",
       "\n",
       "[352 rows x 9 columns]"
      ]
     },
     "execution_count": 361,
     "metadata": {},
     "output_type": "execute_result"
    }
   ],
   "source": [
    "X_train"
   ]
  },
  {
   "cell_type": "code",
   "execution_count": 362,
   "metadata": {},
   "outputs": [
    {
     "data": {
      "text/html": [
       "<div>\n",
       "<style scoped>\n",
       "    .dataframe tbody tr th:only-of-type {\n",
       "        vertical-align: middle;\n",
       "    }\n",
       "\n",
       "    .dataframe tbody tr th {\n",
       "        vertical-align: top;\n",
       "    }\n",
       "\n",
       "    .dataframe thead th {\n",
       "        text-align: right;\n",
       "    }\n",
       "</style>\n",
       "<table border=\"1\" class=\"dataframe\">\n",
       "  <thead>\n",
       "    <tr style=\"text-align: right;\">\n",
       "      <th></th>\n",
       "      <th>0</th>\n",
       "      <th>1</th>\n",
       "      <th>2</th>\n",
       "      <th>3</th>\n",
       "      <th>4</th>\n",
       "      <th>5</th>\n",
       "      <th>6</th>\n",
       "      <th>7</th>\n",
       "      <th>8</th>\n",
       "    </tr>\n",
       "  </thead>\n",
       "  <tbody>\n",
       "    <tr>\n",
       "      <th>307</th>\n",
       "      <td>0.261290</td>\n",
       "      <td>-0.442571</td>\n",
       "      <td>-0.511502</td>\n",
       "      <td>1.005941</td>\n",
       "      <td>-1.260742</td>\n",
       "      <td>-0.422444</td>\n",
       "      <td>-0.303093</td>\n",
       "      <td>-0.373795</td>\n",
       "      <td>0.0</td>\n",
       "    </tr>\n",
       "    <tr>\n",
       "      <th>203</th>\n",
       "      <td>-1.096342</td>\n",
       "      <td>-0.442571</td>\n",
       "      <td>-0.511502</td>\n",
       "      <td>-0.455137</td>\n",
       "      <td>2.710595</td>\n",
       "      <td>-0.422444</td>\n",
       "      <td>0.322968</td>\n",
       "      <td>-0.373795</td>\n",
       "      <td>0.0</td>\n",
       "    </tr>\n",
       "    <tr>\n",
       "      <th>65</th>\n",
       "      <td>-0.643798</td>\n",
       "      <td>0.658938</td>\n",
       "      <td>1.060431</td>\n",
       "      <td>1.736480</td>\n",
       "      <td>-0.267908</td>\n",
       "      <td>1.090251</td>\n",
       "      <td>-0.303093</td>\n",
       "      <td>2.480641</td>\n",
       "      <td>0.0</td>\n",
       "    </tr>\n",
       "    <tr>\n",
       "      <th>415</th>\n",
       "      <td>0.713835</td>\n",
       "      <td>-0.442571</td>\n",
       "      <td>-0.511502</td>\n",
       "      <td>3.197558</td>\n",
       "      <td>0.724927</td>\n",
       "      <td>-0.422444</td>\n",
       "      <td>-0.929153</td>\n",
       "      <td>-0.373795</td>\n",
       "      <td>0.0</td>\n",
       "    </tr>\n",
       "    <tr>\n",
       "      <th>336</th>\n",
       "      <td>1.166379</td>\n",
       "      <td>0.658938</td>\n",
       "      <td>0.012476</td>\n",
       "      <td>-0.455137</td>\n",
       "      <td>0.724927</td>\n",
       "      <td>0.712077</td>\n",
       "      <td>0.949028</td>\n",
       "      <td>-0.373795</td>\n",
       "      <td>0.0</td>\n",
       "    </tr>\n",
       "    <tr>\n",
       "      <th>...</th>\n",
       "      <td>...</td>\n",
       "      <td>...</td>\n",
       "      <td>...</td>\n",
       "      <td>...</td>\n",
       "      <td>...</td>\n",
       "      <td>...</td>\n",
       "      <td>...</td>\n",
       "      <td>...</td>\n",
       "      <td>...</td>\n",
       "    </tr>\n",
       "    <tr>\n",
       "      <th>106</th>\n",
       "      <td>0.261290</td>\n",
       "      <td>-0.442571</td>\n",
       "      <td>-0.511502</td>\n",
       "      <td>-0.455137</td>\n",
       "      <td>-0.267908</td>\n",
       "      <td>-0.044270</td>\n",
       "      <td>0.322968</td>\n",
       "      <td>0.339814</td>\n",
       "      <td>0.0</td>\n",
       "    </tr>\n",
       "    <tr>\n",
       "      <th>329</th>\n",
       "      <td>0.261290</td>\n",
       "      <td>-0.442571</td>\n",
       "      <td>-0.511502</td>\n",
       "      <td>-0.455137</td>\n",
       "      <td>-0.267908</td>\n",
       "      <td>-0.422444</td>\n",
       "      <td>-0.929153</td>\n",
       "      <td>-0.373795</td>\n",
       "      <td>0.0</td>\n",
       "    </tr>\n",
       "    <tr>\n",
       "      <th>355</th>\n",
       "      <td>0.713835</td>\n",
       "      <td>-0.442571</td>\n",
       "      <td>-0.511502</td>\n",
       "      <td>-0.455137</td>\n",
       "      <td>-0.267908</td>\n",
       "      <td>-0.422444</td>\n",
       "      <td>-0.303093</td>\n",
       "      <td>-0.373795</td>\n",
       "      <td>0.0</td>\n",
       "    </tr>\n",
       "    <tr>\n",
       "      <th>289</th>\n",
       "      <td>-1.096342</td>\n",
       "      <td>0.658938</td>\n",
       "      <td>-0.511502</td>\n",
       "      <td>-0.455137</td>\n",
       "      <td>-0.267908</td>\n",
       "      <td>-0.422444</td>\n",
       "      <td>-0.303093</td>\n",
       "      <td>0.339814</td>\n",
       "      <td>0.0</td>\n",
       "    </tr>\n",
       "    <tr>\n",
       "      <th>21</th>\n",
       "      <td>-0.191254</td>\n",
       "      <td>0.108184</td>\n",
       "      <td>-0.511502</td>\n",
       "      <td>-0.455137</td>\n",
       "      <td>-1.260742</td>\n",
       "      <td>-0.422444</td>\n",
       "      <td>-0.303093</td>\n",
       "      <td>-0.373795</td>\n",
       "      <td>0.0</td>\n",
       "    </tr>\n",
       "  </tbody>\n",
       "</table>\n",
       "<p>152 rows × 9 columns</p>\n",
       "</div>"
      ],
      "text/plain": [
       "            0         1         2         3         4         5         6  \\\n",
       "307  0.261290 -0.442571 -0.511502  1.005941 -1.260742 -0.422444 -0.303093   \n",
       "203 -1.096342 -0.442571 -0.511502 -0.455137  2.710595 -0.422444  0.322968   \n",
       "65  -0.643798  0.658938  1.060431  1.736480 -0.267908  1.090251 -0.303093   \n",
       "415  0.713835 -0.442571 -0.511502  3.197558  0.724927 -0.422444 -0.929153   \n",
       "336  1.166379  0.658938  0.012476 -0.455137  0.724927  0.712077  0.949028   \n",
       "..        ...       ...       ...       ...       ...       ...       ...   \n",
       "106  0.261290 -0.442571 -0.511502 -0.455137 -0.267908 -0.044270  0.322968   \n",
       "329  0.261290 -0.442571 -0.511502 -0.455137 -0.267908 -0.422444 -0.929153   \n",
       "355  0.713835 -0.442571 -0.511502 -0.455137 -0.267908 -0.422444 -0.303093   \n",
       "289 -1.096342  0.658938 -0.511502 -0.455137 -0.267908 -0.422444 -0.303093   \n",
       "21  -0.191254  0.108184 -0.511502 -0.455137 -1.260742 -0.422444 -0.303093   \n",
       "\n",
       "            7    8  \n",
       "307 -0.373795  0.0  \n",
       "203 -0.373795  0.0  \n",
       "65   2.480641  0.0  \n",
       "415 -0.373795  0.0  \n",
       "336 -0.373795  0.0  \n",
       "..        ...  ...  \n",
       "106  0.339814  0.0  \n",
       "329 -0.373795  0.0  \n",
       "355 -0.373795  0.0  \n",
       "289  0.339814  0.0  \n",
       "21  -0.373795  0.0  \n",
       "\n",
       "[152 rows x 9 columns]"
      ]
     },
     "execution_count": 362,
     "metadata": {},
     "output_type": "execute_result"
    }
   ],
   "source": [
    "X_test"
   ]
  },
  {
   "cell_type": "code",
   "execution_count": 363,
   "metadata": {},
   "outputs": [
    {
     "data": {
      "text/plain": [
       "23     4\n",
       "11     2\n",
       "637    2\n",
       "441    2\n",
       "333    4\n",
       "      ..\n",
       "375    2\n",
       "517    2\n",
       "97     2\n",
       "419    2\n",
       "624    2\n",
       "Name: Class, Length: 352, dtype: int64"
      ]
     },
     "execution_count": 363,
     "metadata": {},
     "output_type": "execute_result"
    }
   ],
   "source": [
    "y_train"
   ]
  },
  {
   "cell_type": "code",
   "execution_count": 364,
   "metadata": {},
   "outputs": [
    {
     "data": {
      "text/plain": [
       "450    2\n",
       "318    2\n",
       "101    4\n",
       "584    2\n",
       "489    4\n",
       "      ..\n",
       "165    2\n",
       "477    2\n",
       "511    2\n",
       "430    2\n",
       "26     2\n",
       "Name: Class, Length: 152, dtype: int64"
      ]
     },
     "execution_count": 364,
     "metadata": {},
     "output_type": "execute_result"
    }
   ],
   "source": [
    "y_test"
   ]
  },
  {
   "cell_type": "markdown",
   "metadata": {},
   "source": [
    "# PART B"
   ]
  },
  {
   "cell_type": "markdown",
   "metadata": {},
   "source": [
    "# MODEL - 1: DECISION TREE"
   ]
  },
  {
   "cell_type": "markdown",
   "metadata": {},
   "source": [
    "## Part B - 1: MODEL BUILDING - DECISION TREE"
   ]
  },
  {
   "cell_type": "markdown",
   "metadata": {},
   "source": [
    "###  Part B: 1-a) DECISION TREE"
   ]
  },
  {
   "cell_type": "code",
   "execution_count": 365,
   "metadata": {},
   "outputs": [],
   "source": [
    "from sklearn.tree import DecisionTreeClassifier\n",
    "\n",
    "# Create the Decision Tree model for classification\n",
    "model = DecisionTreeClassifier()"
   ]
  },
  {
   "cell_type": "markdown",
   "metadata": {},
   "source": [
    "### Part B: 1-b) Train the model and print the training accuracy and loss values"
   ]
  },
  {
   "cell_type": "code",
   "execution_count": 366,
   "metadata": {},
   "outputs": [
    {
     "name": "stdout",
     "output_type": "stream",
     "text": [
      "Prediction Score:\n"
     ]
    },
    {
     "data": {
      "text/plain": [
       "0.9473684210526315"
      ]
     },
     "execution_count": 366,
     "metadata": {},
     "output_type": "execute_result"
    }
   ],
   "source": [
    "# Train the model\n",
    "model.fit(X_train, y_train)\n",
    "\n",
    "# Make predictions on the test set\n",
    "y_pred = model.predict(X_test)\n",
    "\n",
    "# Prediction Score\n",
    "print('Prediction Score:')\n",
    "model.score(X_test, y_test)"
   ]
  },
  {
   "cell_type": "code",
   "execution_count": 367,
   "metadata": {},
   "outputs": [
    {
     "name": "stdout",
     "output_type": "stream",
     "text": [
      "Accuracy Score:\n",
      "0.9473684210526315\n",
      "Error Rate:\n",
      "0.052631578947368474\n"
     ]
    }
   ],
   "source": [
    "# Accuracy Score\n",
    "print('Accuracy Score:')\n",
    "print(metrics.accuracy_score(y_test,y_pred))\n",
    "\n",
    "# Error Rate\n",
    "print('Error Rate:')\n",
    "print(1-metrics.accuracy_score(y_test,y_pred))"
   ]
  },
  {
   "cell_type": "markdown",
   "metadata": {},
   "source": [
    "## Part B - 2:\tPERFORMANCE EVALUATION - DECISION TREE"
   ]
  },
  {
   "cell_type": "markdown",
   "metadata": {},
   "source": [
    "### Part B: 2-a) Confusion Matrix - DECISION TREE"
   ]
  },
  {
   "cell_type": "code",
   "execution_count": 368,
   "metadata": {},
   "outputs": [
    {
     "data": {
      "text/plain": [
       "<sklearn.metrics._plot.confusion_matrix.ConfusionMatrixDisplay at 0x1fbcb024208>"
      ]
     },
     "execution_count": 368,
     "metadata": {},
     "output_type": "execute_result"
    },
    {
     "data": {
      "image/png": "[encoded data removed]",
      "text/plain": [
       "<Figure size 864x864 with 2 Axes>"
      ]
     },
     "metadata": {
      "needs_background": "light"
     },
     "output_type": "display_data"
    }
   ],
   "source": [
    "# Confusion Matrix\n",
    "from sklearn.metrics import confusion_matrix, ConfusionMatrixDisplay\n",
    "import matplotlib.pyplot as plt\n",
    "\n",
    "cm = confusion_matrix(y_test, y_pred, labels=[2,4])\n",
    "disp = ConfusionMatrixDisplay(confusion_matrix=cm, display_labels=[2,4])\n",
    "fig, ax = plt.subplots(figsize=(12,12))\n",
    "disp.plot(cmap=plt.cm.Blues, values_format='g', ax=ax)"
   ]
  },
  {
   "cell_type": "markdown",
   "metadata": {},
   "source": [
    "### Inference"
   ]
  },
  {
   "cell_type": "markdown",
   "metadata": {},
   "source": [
    "A confusion matrix is a performance measurement technique for Machine learning classification. It is a kind of table which helps you to the know the performance of the classification model on a set of test data for that the true values are known. \n",
    "The confusion matrix visualizes the accuracy of a classifier by comparing the actual and predicted classes. The binary confusion matrix is composed of squares:\n",
    "\n",
    "- TP: True Positive: Predicted values correctly predicted as actual positive\n",
    "\n",
    "- FP: Predicted values incorrectly predicted an actual positive. i.e., Negative values predicted as positive\n",
    "\n",
    "- FN: False Negative: Positive values predicted as negative\n",
    "\n",
    "- TN: True Negative: Predicted values correctly predicted as an actual negative\n",
    "\n",
    "In this case:\n",
    "\n",
    "**Class - 2**\n",
    ">Total Samples = 133\n",
    ">\n",
    ">Out of which, 132 samples were predicted correctly, 1 were predicted incorrectly\n",
    "\n",
    "**Class - 4**\n",
    "\n",
    ">Total Samples = 19\n",
    ">\n",
    ">Out of which, 12 samples were predicted correctly, 7 were predicted incorrectly"
   ]
  },
  {
   "cell_type": "markdown",
   "metadata": {},
   "source": [
    "### Part B: 2-b) Do the prediction for the test data and display the results for the inference"
   ]
  },
  {
   "cell_type": "code",
   "execution_count": 369,
   "metadata": {},
   "outputs": [
    {
     "data": {
      "text/plain": [
       "array([2, 2, 2, 2, 2, 4, 2, 2, 2, 2, 4, 2, 4, 2, 2, 2, 2, 2, 2, 2, 2, 2,\n",
       "       2, 4, 4, 4, 2, 2, 2, 2, 4, 2, 2, 2, 2, 2, 2, 2, 2, 2, 2, 4, 2, 2,\n",
       "       2, 2, 2, 4, 2, 2, 2, 4, 2, 2, 2, 2, 2, 2, 4, 2, 2, 2, 2, 2, 2, 2,\n",
       "       2, 2, 2, 2, 2, 2, 2, 2, 2, 2, 2, 2, 2, 2, 2, 2, 2, 2, 2, 4, 2, 2,\n",
       "       2, 2, 2, 2, 2, 2, 2, 2, 2, 2, 2, 2, 2, 2, 2, 2, 2, 2, 2, 2, 2, 2,\n",
       "       2, 2, 2, 2, 2, 4, 2, 2, 2, 2, 2, 2, 2, 2, 2, 2, 2, 2, 2, 2, 2, 2,\n",
       "       2, 2, 2, 2, 2, 2, 2, 2, 2, 2, 2, 2, 2, 2, 2, 2, 2, 2, 2, 2],\n",
       "      dtype=int64)"
      ]
     },
     "execution_count": 369,
     "metadata": {},
     "output_type": "execute_result"
    }
   ],
   "source": [
    "from sklearn.metrics import classification_report, confusion_matrix\n",
    "y_pred"
   ]
  },
  {
   "cell_type": "code",
   "execution_count": 370,
   "metadata": {},
   "outputs": [
    {
     "name": "stdout",
     "output_type": "stream",
     "text": [
      "              precision    recall  f1-score   support\n",
      "\n",
      "           2       0.95      0.99      0.97       133\n",
      "           4       0.92      0.63      0.75        19\n",
      "\n",
      "    accuracy                           0.95       152\n",
      "   macro avg       0.94      0.81      0.86       152\n",
      "weighted avg       0.95      0.95      0.94       152\n",
      "\n"
     ]
    }
   ],
   "source": [
    "# Classification Report\n",
    "report = classification_report(y_test, y_pred,output_dict=True)\n",
    "print(classification_report(y_test, y_pred))"
   ]
  },
  {
   "cell_type": "code",
   "execution_count": 371,
   "metadata": {},
   "outputs": [
    {
     "data": {
      "text/plain": [
       "{'2': {'precision': 0.9496402877697842,\n",
       "  'recall': 0.9924812030075187,\n",
       "  'f1-score': 0.9705882352941175,\n",
       "  'support': 133},\n",
       " '4': {'precision': 0.9230769230769231,\n",
       "  'recall': 0.631578947368421,\n",
       "  'f1-score': 0.7499999999999999,\n",
       "  'support': 19},\n",
       " 'accuracy': 0.9473684210526315,\n",
       " 'macro avg': {'precision': 0.9363586054233537,\n",
       "  'recall': 0.8120300751879699,\n",
       "  'f1-score': 0.8602941176470587,\n",
       "  'support': 152},\n",
       " 'weighted avg': {'precision': 0.9463198671831765,\n",
       "  'recall': 0.9473684210526315,\n",
       "  'f1-score': 0.9430147058823528,\n",
       "  'support': 152}}"
      ]
     },
     "execution_count": 371,
     "metadata": {},
     "output_type": "execute_result"
    }
   ],
   "source": [
    "report"
   ]
  },
  {
   "cell_type": "markdown",
   "metadata": {},
   "source": [
    "### Inference"
   ]
  },
  {
   "cell_type": "markdown",
   "metadata": {},
   "source": [
    "- Precision:- Accuracy of positive predictions.\n",
    "- Recall:- Fraction of positives that were correctly identified.\n",
    "- F1 score :- A weighted harmonic mean of precision and recall such that the best score is 1.0 and the worst is 0.0.\n",
    "- Support :- The number of actual occurrences of the class in the specified dataset\n",
    "\n",
    "In this case:\n",
    "\n",
    "**Class - 2:**\n",
    "- Support --> Total Samples = 133\n",
    "- Recall --> 99% of 133 Samples were predicted correctly ~ 132\n",
    "- Precision --> 95% accurate\n",
    "- F1 score --> 0.97 indicating highly accurate model\n",
    "    \n",
    "**Class - 4:**\n",
    "- Support --> Total Samples = 19\n",
    "- Recall --> 63% of 19 Samples were predicted correctly ~ 12\n",
    "- Precision --> 92% accurate\n",
    "- F1 score --> 0.75 indicating highly accurate model"
   ]
  },
  {
   "cell_type": "markdown",
   "metadata": {},
   "source": [
    "# MODEL - 2: KNN"
   ]
  },
  {
   "cell_type": "markdown",
   "metadata": {},
   "source": [
    "## Part B - 1: MODEL BUILDING - KNN"
   ]
  },
  {
   "cell_type": "markdown",
   "metadata": {},
   "source": [
    "### Part B: 1-a) KNN"
   ]
  },
  {
   "cell_type": "code",
   "execution_count": 372,
   "metadata": {},
   "outputs": [],
   "source": [
    "from sklearn.neighbors  import KNeighborsClassifier\n",
    "\n",
    "knn = KNeighborsClassifier(n_neighbors = 20)"
   ]
  },
  {
   "cell_type": "markdown",
   "metadata": {},
   "source": [
    "### Part B: 1-b) Train the model and print the training accuracy and loss values"
   ]
  },
  {
   "cell_type": "code",
   "execution_count": 373,
   "metadata": {},
   "outputs": [
    {
     "name": "stdout",
     "output_type": "stream",
     "text": [
      "Prediction Score:\n"
     ]
    },
    {
     "data": {
      "text/plain": [
       "0.9407894736842105"
      ]
     },
     "execution_count": 373,
     "metadata": {},
     "output_type": "execute_result"
    }
   ],
   "source": [
    "# Train the model\n",
    "knn.fit(X_train, y_train)\n",
    "\n",
    "# Make predictions on the test set\n",
    "y_pred = knn.predict(X_test)\n",
    "\n",
    "# Prediction Score\n",
    "print('Prediction Score:')\n",
    "knn.score(X_test, y_test)"
   ]
  },
  {
   "cell_type": "code",
   "execution_count": 374,
   "metadata": {},
   "outputs": [
    {
     "name": "stdout",
     "output_type": "stream",
     "text": [
      "Accuracy Score:\n",
      "0.9407894736842105\n",
      "Error Rate:\n",
      "0.05921052631578949\n"
     ]
    }
   ],
   "source": [
    "# Accuracy Score\n",
    "print('Accuracy Score:')\n",
    "print(metrics.accuracy_score(y_test,y_pred))\n",
    "\n",
    "# Error Rate\n",
    "print('Error Rate:')\n",
    "print(1-metrics.accuracy_score(y_test,y_pred))"
   ]
  },
  {
   "cell_type": "markdown",
   "metadata": {},
   "source": [
    "## Part B - 2: PERFORMANCE EVALUATION - KNN"
   ]
  },
  {
   "cell_type": "markdown",
   "metadata": {},
   "source": [
    "### Part B: 2-a) Confusion Matrix - KNN"
   ]
  },
  {
   "cell_type": "code",
   "execution_count": 375,
   "metadata": {},
   "outputs": [
    {
     "data": {
      "text/plain": [
       "<sklearn.metrics._plot.confusion_matrix.ConfusionMatrixDisplay at 0x1fbca870788>"
      ]
     },
     "execution_count": 375,
     "metadata": {},
     "output_type": "execute_result"
    },
    {
     "data": {
      "image/png": "[encoded data removed]",
      "text/plain": [
       "<Figure size 864x864 with 2 Axes>"
      ]
     },
     "metadata": {
      "needs_background": "light"
     },
     "output_type": "display_data"
    }
   ],
   "source": [
    "# Confusion Matrix\n",
    "from sklearn.metrics import confusion_matrix, ConfusionMatrixDisplay\n",
    "import matplotlib.pyplot as plt\n",
    "\n",
    "cm = confusion_matrix(y_test, y_pred, labels=[2,4])\n",
    "disp = ConfusionMatrixDisplay(confusion_matrix=cm, display_labels=[2,4])\n",
    "fig, ax = plt.subplots(figsize=(12,12))\n",
    "disp.plot(cmap=plt.cm.Blues, values_format='g', ax=ax)"
   ]
  },
  {
   "cell_type": "markdown",
   "metadata": {},
   "source": [
    "### Inference"
   ]
  },
  {
   "cell_type": "markdown",
   "metadata": {},
   "source": [
    "A confusion matrix is a performance measurement technique for Machine learning classification. It is a kind of table which helps you to the know the performance of the classification model on a set of test data for that the true values are known. \n",
    "The confusion matrix visualizes the accuracy of a classifier by comparing the actual and predicted classes. The binary confusion matrix is composed of squares:\n",
    "\n",
    "- TP: True Positive: Predicted values correctly predicted as actual positive\n",
    "\n",
    "- FP: Predicted values incorrectly predicted an actual positive. i.e., Negative values predicted as positive\n",
    "\n",
    "- FN: False Negative: Positive values predicted as negative\n",
    "\n",
    "- TN: True Negative: Predicted values correctly predicted as an actual negative\n",
    "\n",
    "In this case:\n",
    "\n",
    "**Class - 2**\n",
    ">Total Samples = 133\n",
    ">\n",
    ">Out of which, 131 samples were predicted correctly, 2 were predicted incorrectly\n",
    "\n",
    "**Class - 4**\n",
    "\n",
    ">Total Samples = 19\n",
    ">\n",
    ">Out of which, 12 samples were predicted correctly, 7 were predicted incorrectly"
   ]
  },
  {
   "cell_type": "markdown",
   "metadata": {},
   "source": [
    "### Part B: 2-b) Do the prediction for the test data and display the results for the inference"
   ]
  },
  {
   "cell_type": "code",
   "execution_count": 376,
   "metadata": {},
   "outputs": [
    {
     "data": {
      "text/plain": [
       "array([2, 2, 2, 2, 2, 4, 2, 2, 2, 2, 4, 2, 4, 2, 2, 2, 2, 2, 2, 2, 2, 2,\n",
       "       2, 4, 4, 4, 2, 2, 2, 2, 4, 2, 2, 2, 2, 2, 2, 2, 2, 2, 2, 4, 2, 2,\n",
       "       2, 2, 2, 4, 2, 2, 2, 4, 2, 2, 2, 2, 2, 2, 4, 2, 2, 2, 2, 2, 2, 2,\n",
       "       4, 2, 2, 2, 2, 2, 2, 2, 2, 2, 2, 2, 2, 2, 2, 2, 2, 2, 2, 4, 2, 2,\n",
       "       2, 2, 2, 2, 2, 2, 2, 2, 2, 2, 2, 2, 2, 2, 2, 2, 2, 2, 2, 2, 2, 2,\n",
       "       2, 2, 2, 2, 2, 2, 2, 2, 2, 2, 2, 2, 2, 2, 2, 2, 2, 2, 2, 2, 2, 2,\n",
       "       2, 2, 2, 2, 2, 2, 2, 4, 2, 2, 2, 2, 2, 2, 2, 2, 2, 2, 2, 2],\n",
       "      dtype=int64)"
      ]
     },
     "execution_count": 376,
     "metadata": {},
     "output_type": "execute_result"
    }
   ],
   "source": [
    "from sklearn.metrics import classification_report, confusion_matrix\n",
    "y_pred"
   ]
  },
  {
   "cell_type": "code",
   "execution_count": 377,
   "metadata": {
    "scrolled": true
   },
   "outputs": [
    {
     "name": "stdout",
     "output_type": "stream",
     "text": [
      "              precision    recall  f1-score   support\n",
      "\n",
      "           2       0.95      0.98      0.97       133\n",
      "           4       0.86      0.63      0.73        19\n",
      "\n",
      "    accuracy                           0.94       152\n",
      "   macro avg       0.90      0.81      0.85       152\n",
      "weighted avg       0.94      0.94      0.94       152\n",
      "\n"
     ]
    }
   ],
   "source": [
    "# Classification Report\n",
    "print(classification_report(y_test, y_pred))\n",
    "report = classification_report(y_test, y_pred,output_dict=True)"
   ]
  },
  {
   "cell_type": "code",
   "execution_count": 378,
   "metadata": {
    "scrolled": false
   },
   "outputs": [
    {
     "data": {
      "text/plain": [
       "{'2': {'precision': 0.9492753623188406,\n",
       "  'recall': 0.9849624060150376,\n",
       "  'f1-score': 0.9667896678966789,\n",
       "  'support': 133},\n",
       " '4': {'precision': 0.8571428571428571,\n",
       "  'recall': 0.631578947368421,\n",
       "  'f1-score': 0.7272727272727273,\n",
       "  'support': 19},\n",
       " 'accuracy': 0.9407894736842105,\n",
       " 'macro avg': {'precision': 0.9032091097308488,\n",
       "  'recall': 0.8082706766917294,\n",
       "  'f1-score': 0.8470311975847031,\n",
       "  'support': 152},\n",
       " 'weighted avg': {'precision': 0.9377587991718427,\n",
       "  'recall': 0.9407894736842105,\n",
       "  'f1-score': 0.936850050318685,\n",
       "  'support': 152}}"
      ]
     },
     "execution_count": 378,
     "metadata": {},
     "output_type": "execute_result"
    }
   ],
   "source": [
    "report"
   ]
  },
  {
   "cell_type": "markdown",
   "metadata": {},
   "source": [
    "### Inference"
   ]
  },
  {
   "cell_type": "markdown",
   "metadata": {},
   "source": [
    "- Precision:- Accuracy of positive predictions.\n",
    "- Recall:- Fraction of positives that were correctly identified.\n",
    "- F1 score :- A weighted harmonic mean of precision and recall such that the best score is 1.0 and the worst is 0.0.\n",
    "- Support :- The number of actual occurrences of the class in the specified dataset\n",
    "\n",
    "In this case:\n",
    "\n",
    "**Class - 2:**\n",
    "- Support --> Total Samples = 133\n",
    "- Recall --> 98% of 133 Samples were predicted correctly ~ 131\n",
    "- Precision --> 95% accurate\n",
    "- F1 score --> 0.97 indicating highly accurate model\n",
    "    \n",
    "**Class - 4:**\n",
    "- Support --> Total Samples = 19\n",
    "- Recall --> 63% of 19 Samples were predicted correctly ~ 12\n",
    "- Precision --> 86% accurate\n",
    "- F1 score --> 0.73 indicating highly accurate model"
   ]
  },
  {
   "cell_type": "markdown",
   "metadata": {},
   "source": [
    "# MODEL - 3: SUPPORT VECTOR CLASSIFIER (SVC)"
   ]
  },
  {
   "cell_type": "markdown",
   "metadata": {},
   "source": [
    "## Part B - 1: MODEL BUILDING - SVC"
   ]
  },
  {
   "cell_type": "markdown",
   "metadata": {},
   "source": [
    "### Part B: 1-a) SVC"
   ]
  },
  {
   "cell_type": "code",
   "execution_count": 379,
   "metadata": {},
   "outputs": [],
   "source": [
    "from sklearn.svm import SVC\n",
    "\n",
    "svc=SVC() "
   ]
  },
  {
   "cell_type": "markdown",
   "metadata": {},
   "source": [
    "### Part B: 1-b)  Train the model and print the training accuracy and loss values"
   ]
  },
  {
   "cell_type": "code",
   "execution_count": 380,
   "metadata": {},
   "outputs": [
    {
     "name": "stdout",
     "output_type": "stream",
     "text": [
      "Prediction Score:\n"
     ]
    },
    {
     "data": {
      "text/plain": [
       "0.9539473684210527"
      ]
     },
     "execution_count": 380,
     "metadata": {},
     "output_type": "execute_result"
    }
   ],
   "source": [
    "# Train the model\n",
    "svc.fit(X_train,y_train)\n",
    "\n",
    "# Make predictions on the test set\n",
    "y_pred = svc.predict(X_test)\n",
    "\n",
    "# Prediction Score\n",
    "print('Prediction Score:')\n",
    "svc.score(X_test, y_test)"
   ]
  },
  {
   "cell_type": "code",
   "execution_count": 381,
   "metadata": {},
   "outputs": [
    {
     "name": "stdout",
     "output_type": "stream",
     "text": [
      "Accuracy Score:\n",
      "0.9539473684210527\n",
      "Error Rate:\n",
      "0.046052631578947345\n"
     ]
    }
   ],
   "source": [
    "# Accuracy Score\n",
    "print('Accuracy Score:')\n",
    "print(metrics.accuracy_score(y_test,y_pred))\n",
    "\n",
    "# Error Rate\n",
    "print('Error Rate:')\n",
    "print(1-metrics.accuracy_score(y_test,y_pred))"
   ]
  },
  {
   "cell_type": "markdown",
   "metadata": {},
   "source": [
    "## Part B - 2: PERFORMANCE EVALUATION - SVC"
   ]
  },
  {
   "cell_type": "markdown",
   "metadata": {},
   "source": [
    "### Part B: 2-a) Confusion Matrix - SVC"
   ]
  },
  {
   "cell_type": "code",
   "execution_count": 382,
   "metadata": {},
   "outputs": [
    {
     "data": {
      "text/plain": [
       "<sklearn.metrics._plot.confusion_matrix.ConfusionMatrixDisplay at 0x1fbca91b648>"
      ]
     },
     "execution_count": 382,
     "metadata": {},
     "output_type": "execute_result"
    },
    {
     "data": {
      "image/png": "[encoded data removed]",
      "text/plain": [
       "<Figure size 864x864 with 2 Axes>"
      ]
     },
     "metadata": {
      "needs_background": "light"
     },
     "output_type": "display_data"
    }
   ],
   "source": [
    "# Confusion Matrix\n",
    "from sklearn.metrics import confusion_matrix, ConfusionMatrixDisplay\n",
    "import matplotlib.pyplot as plt\n",
    "\n",
    "cm = confusion_matrix(y_test, y_pred, labels=[2,4])\n",
    "disp = ConfusionMatrixDisplay(confusion_matrix=cm, display_labels=[2,4])\n",
    "fig, ax = plt.subplots(figsize=(12,12))\n",
    "disp.plot(cmap=plt.cm.Blues, values_format='g', ax=ax)"
   ]
  },
  {
   "cell_type": "markdown",
   "metadata": {},
   "source": [
    "### Inference"
   ]
  },
  {
   "cell_type": "markdown",
   "metadata": {},
   "source": [
    "A confusion matrix is a performance measurement technique for Machine learning classification. It is a kind of table which helps you to the know the performance of the classification model on a set of test data for that the true values are known. \n",
    "The confusion matrix visualizes the accuracy of a classifier by comparing the actual and predicted classes. The binary confusion matrix is composed of squares:\n",
    "\n",
    "- TP: True Positive: Predicted values correctly predicted as actual positive\n",
    "\n",
    "- FP: Predicted values incorrectly predicted an actual positive. i.e., Negative values predicted as positive\n",
    "\n",
    "- FN: False Negative: Positive values predicted as negative\n",
    "\n",
    "- TN: True Negative: Predicted values correctly predicted as an actual negative\n",
    "\n",
    "In this case:\n",
    "\n",
    "**Class - 2**\n",
    ">Total Samples = 133\n",
    ">\n",
    ">Out of which, 131 samples were predicted correctly, 2 were predicted incorrectly\n",
    "\n",
    "**Class - 4**\n",
    "\n",
    ">Total Samples = 19\n",
    ">\n",
    ">Out of which, 14 samples were predicted correctly, 5 were predicted incorrectly"
   ]
  },
  {
   "cell_type": "markdown",
   "metadata": {},
   "source": [
    "### Part B: 2-b) Do the prediction for the test data and display the results for the inference"
   ]
  },
  {
   "cell_type": "code",
   "execution_count": 383,
   "metadata": {},
   "outputs": [
    {
     "data": {
      "text/plain": [
       "array([2, 2, 2, 2, 2, 4, 2, 2, 2, 2, 4, 2, 4, 2, 2, 2, 2, 2, 2, 2, 2, 2,\n",
       "       2, 4, 4, 4, 2, 2, 2, 2, 4, 2, 2, 2, 2, 2, 2, 2, 2, 2, 2, 4, 2, 2,\n",
       "       2, 2, 2, 4, 2, 2, 2, 4, 2, 2, 2, 2, 2, 2, 4, 2, 2, 2, 2, 2, 2, 2,\n",
       "       4, 2, 2, 2, 2, 2, 2, 2, 2, 2, 2, 2, 2, 2, 2, 2, 2, 2, 2, 4, 2, 2,\n",
       "       2, 2, 2, 2, 2, 2, 2, 2, 2, 2, 2, 2, 2, 2, 2, 2, 2, 2, 2, 2, 2, 2,\n",
       "       2, 2, 2, 2, 2, 4, 2, 2, 2, 2, 2, 2, 2, 4, 2, 2, 2, 2, 2, 2, 2, 2,\n",
       "       2, 2, 2, 2, 2, 2, 2, 4, 2, 2, 2, 2, 2, 2, 2, 2, 2, 2, 2, 2],\n",
       "      dtype=int64)"
      ]
     },
     "execution_count": 383,
     "metadata": {},
     "output_type": "execute_result"
    }
   ],
   "source": [
    "from sklearn.metrics import classification_report, confusion_matrix\n",
    "y_pred"
   ]
  },
  {
   "cell_type": "code",
   "execution_count": 384,
   "metadata": {
    "scrolled": true
   },
   "outputs": [
    {
     "name": "stdout",
     "output_type": "stream",
     "text": [
      "              precision    recall  f1-score   support\n",
      "\n",
      "           2       0.96      0.98      0.97       133\n",
      "           4       0.88      0.74      0.80        19\n",
      "\n",
      "    accuracy                           0.95       152\n",
      "   macro avg       0.92      0.86      0.89       152\n",
      "weighted avg       0.95      0.95      0.95       152\n",
      "\n"
     ]
    }
   ],
   "source": [
    "# Classification Report\n",
    "print(classification_report(y_test, y_pred))\n",
    "report = classification_report(y_test, y_pred,output_dict=True)"
   ]
  },
  {
   "cell_type": "code",
   "execution_count": 385,
   "metadata": {
    "scrolled": false
   },
   "outputs": [
    {
     "data": {
      "text/plain": [
       "{'2': {'precision': 0.9632352941176471,\n",
       "  'recall': 0.9849624060150376,\n",
       "  'f1-score': 0.9739776951672863,\n",
       "  'support': 133},\n",
       " '4': {'precision': 0.875,\n",
       "  'recall': 0.7368421052631579,\n",
       "  'f1-score': 0.7999999999999999,\n",
       "  'support': 19},\n",
       " 'accuracy': 0.9539473684210527,\n",
       " 'macro avg': {'precision': 0.9191176470588236,\n",
       "  'recall': 0.8609022556390977,\n",
       "  'f1-score': 0.8869888475836432,\n",
       "  'support': 152},\n",
       " 'weighted avg': {'precision': 0.9522058823529412,\n",
       "  'recall': 0.9539473684210527,\n",
       "  'f1-score': 0.9522304832713754,\n",
       "  'support': 152}}"
      ]
     },
     "execution_count": 385,
     "metadata": {},
     "output_type": "execute_result"
    }
   ],
   "source": [
    "report"
   ]
  },
  {
   "cell_type": "markdown",
   "metadata": {},
   "source": [
    "### Inference"
   ]
  },
  {
   "cell_type": "markdown",
   "metadata": {},
   "source": [
    "- Precision:- Accuracy of positive predictions.\n",
    "- Recall:- Fraction of positives that were correctly identified.\n",
    "- F1 score :- A weighted harmonic mean of precision and recall such that the best score is 1.0 and the worst is 0.0.\n",
    "- Support :- The number of actual occurrences of the class in the specified dataset\n",
    "\n",
    "In this case:\n",
    "\n",
    "**Class - 2:**\n",
    "- Support --> Total Samples = 133\n",
    "- Recall --> 98% of 133 Samples were predicted correctly ~ 131\n",
    "- Precision --> 96% accurate\n",
    "- F1 score --> 0.97 indicating highly accurate model\n",
    "    \n",
    "**Class - 4:**\n",
    "- Support --> Total Samples = 19\n",
    "- Recall --> 74% of 23 Samples were predicted correctly ~ 14\n",
    "- Precision --> 88% accurate\n",
    "- F1 score --> 0.80 indicating highly accurate model"
   ]
  },
  {
   "cell_type": "markdown",
   "metadata": {},
   "source": [
    "# MODEL - 4: NAIVE BAYES CLASSIFIER (NBC)"
   ]
  },
  {
   "cell_type": "markdown",
   "metadata": {},
   "source": [
    "## Part B - 1: MODEL BUILDING - NBC"
   ]
  },
  {
   "cell_type": "markdown",
   "metadata": {},
   "source": [
    "### Part B: 1-a) NBC"
   ]
  },
  {
   "cell_type": "code",
   "execution_count": 386,
   "metadata": {},
   "outputs": [],
   "source": [
    "from sklearn.naive_bayes import GaussianNB\n",
    "\n",
    "gnb = GaussianNB()"
   ]
  },
  {
   "cell_type": "markdown",
   "metadata": {},
   "source": [
    "### Part B: 1-b)  Train the model and print the training accuracy and loss values"
   ]
  },
  {
   "cell_type": "code",
   "execution_count": 387,
   "metadata": {},
   "outputs": [
    {
     "name": "stdout",
     "output_type": "stream",
     "text": [
      "Prediction Score:\n"
     ]
    },
    {
     "data": {
      "text/plain": [
       "0.9671052631578947"
      ]
     },
     "execution_count": 387,
     "metadata": {},
     "output_type": "execute_result"
    }
   ],
   "source": [
    "# Train the model\n",
    "gnb.fit(X_train, y_train)\n",
    "y_pred = gnb.predict(X_test)\n",
    "\n",
    "# Make predictions on the test set\n",
    "y_pred = gnb.predict(X_test)\n",
    "\n",
    "# Prediction Score\n",
    "print('Prediction Score:')\n",
    "gnb.score(X_test, y_test)"
   ]
  },
  {
   "cell_type": "code",
   "execution_count": 388,
   "metadata": {},
   "outputs": [
    {
     "name": "stdout",
     "output_type": "stream",
     "text": [
      "Accuracy Score:\n",
      "0.9671052631578947\n",
      "Error Rate:\n",
      "0.03289473684210531\n"
     ]
    }
   ],
   "source": [
    "# Accuracy Score\n",
    "print('Accuracy Score:')\n",
    "print(metrics.accuracy_score(y_test,y_pred))\n",
    "\n",
    "# Error Rate\n",
    "print('Error Rate:')\n",
    "print(1-metrics.accuracy_score(y_test,y_pred))"
   ]
  },
  {
   "cell_type": "markdown",
   "metadata": {},
   "source": [
    "## Part B - 2: PERFORMANCE EVALUATION - NBC"
   ]
  },
  {
   "cell_type": "markdown",
   "metadata": {},
   "source": [
    "### Part B: 2-a) Confusion Matrix - NBC"
   ]
  },
  {
   "cell_type": "code",
   "execution_count": 389,
   "metadata": {},
   "outputs": [
    {
     "data": {
      "text/plain": [
       "<sklearn.metrics._plot.confusion_matrix.ConfusionMatrixDisplay at 0x1fbca88f148>"
      ]
     },
     "execution_count": 389,
     "metadata": {},
     "output_type": "execute_result"
    },
    {
     "data": {
      "image/png": "[encoded data removed]",
      "text/plain": [
       "<Figure size 864x864 with 2 Axes>"
      ]
     },
     "metadata": {
      "needs_background": "light"
     },
     "output_type": "display_data"
    }
   ],
   "source": [
    "# Confusion Matrix\n",
    "from sklearn.metrics import confusion_matrix, ConfusionMatrixDisplay\n",
    "import matplotlib.pyplot as plt\n",
    "\n",
    "cm = confusion_matrix(y_test, y_pred, labels=[2,4])\n",
    "disp = ConfusionMatrixDisplay(confusion_matrix=cm, display_labels=[2,4])\n",
    "fig, ax = plt.subplots(figsize=(12,12))\n",
    "disp.plot(cmap=plt.cm.Blues, values_format='g', ax=ax)"
   ]
  },
  {
   "cell_type": "markdown",
   "metadata": {},
   "source": [
    "### Inference"
   ]
  },
  {
   "cell_type": "markdown",
   "metadata": {},
   "source": [
    "A confusion matrix is a performance measurement technique for Machine learning classification. It is a kind of table which helps you to the know the performance of the classification model on a set of test data for that the true values are known. \n",
    "The confusion matrix visualizes the accuracy of a classifier by comparing the actual and predicted classes. The binary confusion matrix is composed of squares:\n",
    "\n",
    "- TP: True Positive: Predicted values correctly predicted as actual positive\n",
    "\n",
    "- FP: Predicted values incorrectly predicted an actual positive. i.e., Negative values predicted as positive\n",
    "\n",
    "- FN: False Negative: Positive values predicted as negative\n",
    "\n",
    "- TN: True Negative: Predicted values correctly predicted as an actual negative\n",
    "\n",
    "In this case:\n",
    "\n",
    "**Class - 2**\n",
    ">Total Samples = 133\n",
    ">\n",
    ">Out of which, 130 samples were predicted correctly, 3 were predicted incorrectly\n",
    "\n",
    "**Class - 4**\n",
    "\n",
    ">Total Samples = 19\n",
    ">\n",
    ">Out of which, 17 samples were predicted correctly, 2 were predicted incorrectly"
   ]
  },
  {
   "cell_type": "markdown",
   "metadata": {},
   "source": [
    "### Part B: 2-b) Do the prediction for the test data and display the results for the inference"
   ]
  },
  {
   "cell_type": "code",
   "execution_count": 390,
   "metadata": {},
   "outputs": [
    {
     "data": {
      "text/plain": [
       "array([2, 2, 4, 2, 2, 4, 2, 2, 2, 2, 4, 2, 4, 2, 2, 2, 2, 2, 2, 2, 2, 2,\n",
       "       2, 4, 4, 4, 2, 2, 2, 2, 4, 2, 2, 2, 2, 2, 2, 2, 4, 2, 2, 4, 2, 2,\n",
       "       2, 2, 2, 4, 2, 2, 2, 4, 2, 2, 2, 2, 2, 2, 4, 2, 2, 4, 2, 2, 2, 2,\n",
       "       4, 2, 2, 2, 2, 2, 2, 2, 2, 2, 2, 2, 4, 2, 2, 2, 2, 2, 2, 4, 2, 2,\n",
       "       2, 2, 2, 2, 2, 2, 2, 2, 2, 2, 2, 2, 2, 2, 2, 2, 2, 2, 2, 2, 2, 2,\n",
       "       2, 2, 2, 2, 2, 4, 2, 2, 2, 2, 2, 2, 2, 4, 2, 2, 2, 2, 2, 2, 2, 2,\n",
       "       2, 2, 2, 2, 2, 2, 2, 4, 2, 2, 2, 2, 2, 2, 2, 2, 2, 2, 2, 2],\n",
       "      dtype=int64)"
      ]
     },
     "execution_count": 390,
     "metadata": {},
     "output_type": "execute_result"
    }
   ],
   "source": [
    "from sklearn.metrics import classification_report, confusion_matrix\n",
    "y_pred"
   ]
  },
  {
   "cell_type": "code",
   "execution_count": 391,
   "metadata": {
    "scrolled": true
   },
   "outputs": [
    {
     "name": "stdout",
     "output_type": "stream",
     "text": [
      "              precision    recall  f1-score   support\n",
      "\n",
      "           2       0.98      0.98      0.98       133\n",
      "           4       0.85      0.89      0.87        19\n",
      "\n",
      "    accuracy                           0.97       152\n",
      "   macro avg       0.92      0.94      0.93       152\n",
      "weighted avg       0.97      0.97      0.97       152\n",
      "\n"
     ]
    }
   ],
   "source": [
    "# Classification Report\n",
    "print(classification_report(y_test, y_pred))\n",
    "report = classification_report(y_test, y_pred,output_dict=True)"
   ]
  },
  {
   "cell_type": "code",
   "execution_count": 392,
   "metadata": {
    "scrolled": false
   },
   "outputs": [
    {
     "data": {
      "text/plain": [
       "{'2': {'precision': 0.9848484848484849,\n",
       "  'recall': 0.9774436090225563,\n",
       "  'f1-score': 0.981132075471698,\n",
       "  'support': 133},\n",
       " '4': {'precision': 0.85,\n",
       "  'recall': 0.8947368421052632,\n",
       "  'f1-score': 0.8717948717948718,\n",
       "  'support': 19},\n",
       " 'accuracy': 0.9671052631578947,\n",
       " 'macro avg': {'precision': 0.9174242424242425,\n",
       "  'recall': 0.9360902255639098,\n",
       "  'f1-score': 0.9264634736332849,\n",
       "  'support': 152},\n",
       " 'weighted avg': {'precision': 0.9679924242424244,\n",
       "  'recall': 0.9671052631578947,\n",
       "  'f1-score': 0.9674649250120948,\n",
       "  'support': 152}}"
      ]
     },
     "execution_count": 392,
     "metadata": {},
     "output_type": "execute_result"
    }
   ],
   "source": [
    "report"
   ]
  },
  {
   "cell_type": "markdown",
   "metadata": {},
   "source": [
    "### Inference"
   ]
  },
  {
   "cell_type": "markdown",
   "metadata": {},
   "source": [
    "- Precision:- Accuracy of positive predictions.\n",
    "- Recall:- Fraction of positives that were correctly identified.\n",
    "- F1 score :- A weighted harmonic mean of precision and recall such that the best score is 1.0 and the worst is 0.0.\n",
    "- Support :- The number of actual occurrences of the class in the specified dataset\n",
    "\n",
    "In this case:\n",
    "\n",
    "**Class - 2:**\n",
    "- Support --> Total Samples = 133\n",
    "- Recall --> 98% of 133 Samples were predicted correctly ~ 130\n",
    "- Precision --> 98% accurate\n",
    "- F1 score --> 0.98 indicating highly accurate model\n",
    "    \n",
    "**Class - 4:**\n",
    "- Support --> Total Samples = 19\n",
    "- Recall --> 89% of 19 Samples were predicted correctly ~ 17\n",
    "- Precision --> 85% accurate\n",
    "- F1 score --> 0.87 indicating highly accurate model"
   ]
  },
  {
   "cell_type": "markdown",
   "metadata": {},
   "source": [
    "# CONCLUSION"
   ]
  },
  {
   "cell_type": "markdown",
   "metadata": {},
   "source": [
    "## DECISION TREE MODEL HAS HIGHEST ACCURACY WHEN ALL CLASSES IN DATASET ARE CONSIDERED"
   ]
  },
  {
   "cell_type": "code",
   "execution_count": 4,
   "metadata": {},
   "outputs": [
    {
     "data": {
      "text/html": [
       "<style>table {align:left;display:block} </style>"
      ],
      "text/plain": [
       "<IPython.core.display.HTML object>"
      ]
     },
     "execution_count": 4,
     "metadata": {},
     "output_type": "execute_result"
    }
   ],
   "source": []
  }
 ],
 "metadata": {
  "kernelspec": {
   "display_name": "Python 3",
   "language": "python",
   "name": "python3"
  },
  "language_info": {
   "codemirror_mode": {
    "name": "ipython",
    "version": 3
   },
   "file_extension": ".py",
   "mimetype": "text/x-python",
   "name": "python",
   "nbconvert_exporter": "python",
   "pygments_lexer": "ipython3",
   "version": "3.7.9"
  }
 },
 "nbformat": 4,
 "nbformat_minor": 4
}
